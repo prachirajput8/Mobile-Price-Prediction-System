{
 "cells": [
  {
   "cell_type": "code",
   "execution_count": 1,
   "id": "47c31298",
   "metadata": {},
   "outputs": [],
   "source": [
    "import pandas as pd \n",
    "import seaborn as sns\n",
    "import matplotlib.pyplot as plt\n",
    "\n",
    " \n",
    "from sklearn.model_selection import train_test_split\n",
    "from sklearn.preprocessing import StandardScaler"
   ]
  },
  {
   "cell_type": "code",
   "execution_count": 2,
   "id": "edaade6c",
   "metadata": {},
   "outputs": [],
   "source": [
    "raw_data=pd.read_csv('C:/Users/nazil/Downloads/NEW/Datafiles/MobilePriceRange.csv')"
   ]
  },
  {
   "cell_type": "code",
   "execution_count": 3,
   "id": "3ffef5c3",
   "metadata": {},
   "outputs": [
    {
     "data": {
      "text/html": [
       "<div>\n",
       "<style scoped>\n",
       "    .dataframe tbody tr th:only-of-type {\n",
       "        vertical-align: middle;\n",
       "    }\n",
       "\n",
       "    .dataframe tbody tr th {\n",
       "        vertical-align: top;\n",
       "    }\n",
       "\n",
       "    .dataframe thead th {\n",
       "        text-align: right;\n",
       "    }\n",
       "</style>\n",
       "<table border=\"1\" class=\"dataframe\">\n",
       "  <thead>\n",
       "    <tr style=\"text-align: right;\">\n",
       "      <th></th>\n",
       "      <th>battery_power</th>\n",
       "      <th>int_memory</th>\n",
       "      <th>fc</th>\n",
       "      <th>n_cores</th>\n",
       "      <th>ram</th>\n",
       "      <th>talk_time</th>\n",
       "      <th>dual_sim</th>\n",
       "      <th>wifi</th>\n",
       "      <th>pc</th>\n",
       "      <th>mobile_wt</th>\n",
       "      <th>price_range</th>\n",
       "    </tr>\n",
       "  </thead>\n",
       "  <tbody>\n",
       "    <tr>\n",
       "      <th>0</th>\n",
       "      <td>842</td>\n",
       "      <td>7</td>\n",
       "      <td>1</td>\n",
       "      <td>2</td>\n",
       "      <td>2549</td>\n",
       "      <td>19</td>\n",
       "      <td>0</td>\n",
       "      <td>1</td>\n",
       "      <td>2</td>\n",
       "      <td>188</td>\n",
       "      <td>Medium</td>\n",
       "    </tr>\n",
       "    <tr>\n",
       "      <th>1</th>\n",
       "      <td>1021</td>\n",
       "      <td>53</td>\n",
       "      <td>0</td>\n",
       "      <td>3</td>\n",
       "      <td>2631</td>\n",
       "      <td>7</td>\n",
       "      <td>1</td>\n",
       "      <td>0</td>\n",
       "      <td>6</td>\n",
       "      <td>136</td>\n",
       "      <td>High</td>\n",
       "    </tr>\n",
       "    <tr>\n",
       "      <th>2</th>\n",
       "      <td>563</td>\n",
       "      <td>41</td>\n",
       "      <td>2</td>\n",
       "      <td>5</td>\n",
       "      <td>2603</td>\n",
       "      <td>9</td>\n",
       "      <td>1</td>\n",
       "      <td>0</td>\n",
       "      <td>6</td>\n",
       "      <td>145</td>\n",
       "      <td>High</td>\n",
       "    </tr>\n",
       "    <tr>\n",
       "      <th>3</th>\n",
       "      <td>615</td>\n",
       "      <td>10</td>\n",
       "      <td>0</td>\n",
       "      <td>6</td>\n",
       "      <td>2769</td>\n",
       "      <td>11</td>\n",
       "      <td>0</td>\n",
       "      <td>0</td>\n",
       "      <td>9</td>\n",
       "      <td>131</td>\n",
       "      <td>High</td>\n",
       "    </tr>\n",
       "    <tr>\n",
       "      <th>4</th>\n",
       "      <td>1821</td>\n",
       "      <td>44</td>\n",
       "      <td>13</td>\n",
       "      <td>2</td>\n",
       "      <td>1411</td>\n",
       "      <td>15</td>\n",
       "      <td>0</td>\n",
       "      <td>0</td>\n",
       "      <td>14</td>\n",
       "      <td>141</td>\n",
       "      <td>Medium</td>\n",
       "    </tr>\n",
       "    <tr>\n",
       "      <th>5</th>\n",
       "      <td>1859</td>\n",
       "      <td>22</td>\n",
       "      <td>3</td>\n",
       "      <td>1</td>\n",
       "      <td>1067</td>\n",
       "      <td>10</td>\n",
       "      <td>1</td>\n",
       "      <td>0</td>\n",
       "      <td>7</td>\n",
       "      <td>164</td>\n",
       "      <td>Medium</td>\n",
       "    </tr>\n",
       "    <tr>\n",
       "      <th>6</th>\n",
       "      <td>1821</td>\n",
       "      <td>10</td>\n",
       "      <td>4</td>\n",
       "      <td>8</td>\n",
       "      <td>3220</td>\n",
       "      <td>18</td>\n",
       "      <td>0</td>\n",
       "      <td>1</td>\n",
       "      <td>10</td>\n",
       "      <td>139</td>\n",
       "      <td>VeryHigh</td>\n",
       "    </tr>\n",
       "    <tr>\n",
       "      <th>7</th>\n",
       "      <td>1954</td>\n",
       "      <td>24</td>\n",
       "      <td>0</td>\n",
       "      <td>4</td>\n",
       "      <td>700</td>\n",
       "      <td>5</td>\n",
       "      <td>1</td>\n",
       "      <td>1</td>\n",
       "      <td>0</td>\n",
       "      <td>187</td>\n",
       "      <td>Low</td>\n",
       "    </tr>\n",
       "    <tr>\n",
       "      <th>8</th>\n",
       "      <td>1445</td>\n",
       "      <td>53</td>\n",
       "      <td>0</td>\n",
       "      <td>7</td>\n",
       "      <td>1099</td>\n",
       "      <td>20</td>\n",
       "      <td>0</td>\n",
       "      <td>0</td>\n",
       "      <td>14</td>\n",
       "      <td>174</td>\n",
       "      <td>Low</td>\n",
       "    </tr>\n",
       "  </tbody>\n",
       "</table>\n",
       "</div>"
      ],
      "text/plain": [
       "   battery_power  int_memory  fc  n_cores   ram  talk_time  dual_sim  wifi  \\\n",
       "0            842           7   1        2  2549         19         0     1   \n",
       "1           1021          53   0        3  2631          7         1     0   \n",
       "2            563          41   2        5  2603          9         1     0   \n",
       "3            615          10   0        6  2769         11         0     0   \n",
       "4           1821          44  13        2  1411         15         0     0   \n",
       "5           1859          22   3        1  1067         10         1     0   \n",
       "6           1821          10   4        8  3220         18         0     1   \n",
       "7           1954          24   0        4   700          5         1     1   \n",
       "8           1445          53   0        7  1099         20         0     0   \n",
       "\n",
       "   pc  mobile_wt price_range  \n",
       "0   2        188      Medium  \n",
       "1   6        136        High  \n",
       "2   6        145        High  \n",
       "3   9        131        High  \n",
       "4  14        141      Medium  \n",
       "5   7        164      Medium  \n",
       "6  10        139    VeryHigh  \n",
       "7   0        187         Low  \n",
       "8  14        174         Low  "
      ]
     },
     "execution_count": 3,
     "metadata": {},
     "output_type": "execute_result"
    }
   ],
   "source": [
    "raw_data.head(9)"
   ]
  },
  {
   "cell_type": "markdown",
   "id": "c3ef3cd1",
   "metadata": {},
   "source": [
    "# Check missing values"
   ]
  },
  {
   "cell_type": "code",
   "execution_count": 4,
   "id": "c6e46b11",
   "metadata": {},
   "outputs": [
    {
     "data": {
      "text/plain": [
       "battery_power    0\n",
       "int_memory       0\n",
       "fc               0\n",
       "n_cores          0\n",
       "ram              0\n",
       "talk_time        0\n",
       "dual_sim         0\n",
       "wifi             0\n",
       "pc               0\n",
       "mobile_wt        0\n",
       "price_range      0\n",
       "dtype: int64"
      ]
     },
     "execution_count": 4,
     "metadata": {},
     "output_type": "execute_result"
    }
   ],
   "source": [
    "raw_data.isnull().sum()"
   ]
  },
  {
   "cell_type": "code",
   "execution_count": 5,
   "id": "497f5a38",
   "metadata": {},
   "outputs": [
    {
     "name": "stdout",
     "output_type": "stream",
     "text": [
      "<class 'pandas.core.frame.DataFrame'>\n",
      "RangeIndex: 2000 entries, 0 to 1999\n",
      "Data columns (total 11 columns):\n",
      " #   Column         Non-Null Count  Dtype \n",
      "---  ------         --------------  ----- \n",
      " 0   battery_power  2000 non-null   int64 \n",
      " 1   int_memory     2000 non-null   int64 \n",
      " 2   fc             2000 non-null   int64 \n",
      " 3   n_cores        2000 non-null   int64 \n",
      " 4   ram            2000 non-null   int64 \n",
      " 5   talk_time      2000 non-null   int64 \n",
      " 6   dual_sim       2000 non-null   int64 \n",
      " 7   wifi           2000 non-null   int64 \n",
      " 8   pc             2000 non-null   int64 \n",
      " 9   mobile_wt      2000 non-null   int64 \n",
      " 10  price_range    2000 non-null   object\n",
      "dtypes: int64(10), object(1)\n",
      "memory usage: 172.0+ KB\n"
     ]
    }
   ],
   "source": [
    "raw_data.info()"
   ]
  },
  {
   "cell_type": "markdown",
   "id": "7ed77db2",
   "metadata": {},
   "source": [
    "# Encoding"
   ]
  },
  {
   "cell_type": "code",
   "execution_count": 6,
   "id": "e4214c71",
   "metadata": {
    "scrolled": true
   },
   "outputs": [
    {
     "data": {
      "text/html": [
       "<div>\n",
       "<style scoped>\n",
       "    .dataframe tbody tr th:only-of-type {\n",
       "        vertical-align: middle;\n",
       "    }\n",
       "\n",
       "    .dataframe tbody tr th {\n",
       "        vertical-align: top;\n",
       "    }\n",
       "\n",
       "    .dataframe thead th {\n",
       "        text-align: right;\n",
       "    }\n",
       "</style>\n",
       "<table border=\"1\" class=\"dataframe\">\n",
       "  <thead>\n",
       "    <tr style=\"text-align: right;\">\n",
       "      <th></th>\n",
       "      <th>battery_power</th>\n",
       "      <th>int_memory</th>\n",
       "      <th>fc</th>\n",
       "      <th>n_cores</th>\n",
       "      <th>ram</th>\n",
       "      <th>talk_time</th>\n",
       "      <th>dual_sim</th>\n",
       "      <th>wifi</th>\n",
       "      <th>pc</th>\n",
       "      <th>mobile_wt</th>\n",
       "      <th>price_range</th>\n",
       "    </tr>\n",
       "  </thead>\n",
       "  <tbody>\n",
       "    <tr>\n",
       "      <th>0</th>\n",
       "      <td>842</td>\n",
       "      <td>7</td>\n",
       "      <td>1</td>\n",
       "      <td>2</td>\n",
       "      <td>2549</td>\n",
       "      <td>19</td>\n",
       "      <td>0</td>\n",
       "      <td>1</td>\n",
       "      <td>2</td>\n",
       "      <td>188</td>\n",
       "      <td>1</td>\n",
       "    </tr>\n",
       "    <tr>\n",
       "      <th>1</th>\n",
       "      <td>1021</td>\n",
       "      <td>53</td>\n",
       "      <td>0</td>\n",
       "      <td>3</td>\n",
       "      <td>2631</td>\n",
       "      <td>7</td>\n",
       "      <td>1</td>\n",
       "      <td>0</td>\n",
       "      <td>6</td>\n",
       "      <td>136</td>\n",
       "      <td>2</td>\n",
       "    </tr>\n",
       "    <tr>\n",
       "      <th>2</th>\n",
       "      <td>563</td>\n",
       "      <td>41</td>\n",
       "      <td>2</td>\n",
       "      <td>5</td>\n",
       "      <td>2603</td>\n",
       "      <td>9</td>\n",
       "      <td>1</td>\n",
       "      <td>0</td>\n",
       "      <td>6</td>\n",
       "      <td>145</td>\n",
       "      <td>2</td>\n",
       "    </tr>\n",
       "    <tr>\n",
       "      <th>3</th>\n",
       "      <td>615</td>\n",
       "      <td>10</td>\n",
       "      <td>0</td>\n",
       "      <td>6</td>\n",
       "      <td>2769</td>\n",
       "      <td>11</td>\n",
       "      <td>0</td>\n",
       "      <td>0</td>\n",
       "      <td>9</td>\n",
       "      <td>131</td>\n",
       "      <td>2</td>\n",
       "    </tr>\n",
       "    <tr>\n",
       "      <th>4</th>\n",
       "      <td>1821</td>\n",
       "      <td>44</td>\n",
       "      <td>13</td>\n",
       "      <td>2</td>\n",
       "      <td>1411</td>\n",
       "      <td>15</td>\n",
       "      <td>0</td>\n",
       "      <td>0</td>\n",
       "      <td>14</td>\n",
       "      <td>141</td>\n",
       "      <td>1</td>\n",
       "    </tr>\n",
       "    <tr>\n",
       "      <th>...</th>\n",
       "      <td>...</td>\n",
       "      <td>...</td>\n",
       "      <td>...</td>\n",
       "      <td>...</td>\n",
       "      <td>...</td>\n",
       "      <td>...</td>\n",
       "      <td>...</td>\n",
       "      <td>...</td>\n",
       "      <td>...</td>\n",
       "      <td>...</td>\n",
       "      <td>...</td>\n",
       "    </tr>\n",
       "    <tr>\n",
       "      <th>95</th>\n",
       "      <td>1137</td>\n",
       "      <td>7</td>\n",
       "      <td>18</td>\n",
       "      <td>3</td>\n",
       "      <td>3616</td>\n",
       "      <td>12</td>\n",
       "      <td>0</td>\n",
       "      <td>1</td>\n",
       "      <td>19</td>\n",
       "      <td>196</td>\n",
       "      <td>3</td>\n",
       "    </tr>\n",
       "    <tr>\n",
       "      <th>96</th>\n",
       "      <td>1355</td>\n",
       "      <td>23</td>\n",
       "      <td>10</td>\n",
       "      <td>5</td>\n",
       "      <td>880</td>\n",
       "      <td>8</td>\n",
       "      <td>0</td>\n",
       "      <td>0</td>\n",
       "      <td>16</td>\n",
       "      <td>132</td>\n",
       "      <td>0</td>\n",
       "    </tr>\n",
       "    <tr>\n",
       "      <th>97</th>\n",
       "      <td>1665</td>\n",
       "      <td>60</td>\n",
       "      <td>3</td>\n",
       "      <td>6</td>\n",
       "      <td>1601</td>\n",
       "      <td>14</td>\n",
       "      <td>0</td>\n",
       "      <td>0</td>\n",
       "      <td>18</td>\n",
       "      <td>194</td>\n",
       "      <td>2</td>\n",
       "    </tr>\n",
       "    <tr>\n",
       "      <th>98</th>\n",
       "      <td>657</td>\n",
       "      <td>37</td>\n",
       "      <td>0</td>\n",
       "      <td>2</td>\n",
       "      <td>1412</td>\n",
       "      <td>18</td>\n",
       "      <td>0</td>\n",
       "      <td>0</td>\n",
       "      <td>1</td>\n",
       "      <td>141</td>\n",
       "      <td>0</td>\n",
       "    </tr>\n",
       "    <tr>\n",
       "      <th>99</th>\n",
       "      <td>593</td>\n",
       "      <td>31</td>\n",
       "      <td>6</td>\n",
       "      <td>7</td>\n",
       "      <td>1692</td>\n",
       "      <td>7</td>\n",
       "      <td>0</td>\n",
       "      <td>0</td>\n",
       "      <td>7</td>\n",
       "      <td>156</td>\n",
       "      <td>1</td>\n",
       "    </tr>\n",
       "  </tbody>\n",
       "</table>\n",
       "<p>100 rows × 11 columns</p>\n",
       "</div>"
      ],
      "text/plain": [
       "    battery_power  int_memory  fc  n_cores   ram  talk_time  dual_sim  wifi  \\\n",
       "0             842           7   1        2  2549         19         0     1   \n",
       "1            1021          53   0        3  2631          7         1     0   \n",
       "2             563          41   2        5  2603          9         1     0   \n",
       "3             615          10   0        6  2769         11         0     0   \n",
       "4            1821          44  13        2  1411         15         0     0   \n",
       "..            ...         ...  ..      ...   ...        ...       ...   ...   \n",
       "95           1137           7  18        3  3616         12         0     1   \n",
       "96           1355          23  10        5   880          8         0     0   \n",
       "97           1665          60   3        6  1601         14         0     0   \n",
       "98            657          37   0        2  1412         18         0     0   \n",
       "99            593          31   6        7  1692          7         0     0   \n",
       "\n",
       "    pc  mobile_wt  price_range  \n",
       "0    2        188            1  \n",
       "1    6        136            2  \n",
       "2    6        145            2  \n",
       "3    9        131            2  \n",
       "4   14        141            1  \n",
       "..  ..        ...          ...  \n",
       "95  19        196            3  \n",
       "96  16        132            0  \n",
       "97  18        194            2  \n",
       "98   1        141            0  \n",
       "99   7        156            1  \n",
       "\n",
       "[100 rows x 11 columns]"
      ]
     },
     "execution_count": 6,
     "metadata": {},
     "output_type": "execute_result"
    }
   ],
   "source": [
    "# Define the encoding for the 'PriceRange' categories\n",
    "price_range_encoding = {'Low': 0,'Medium': 1,'High': 2,'VeryHigh': 3}\n",
    "\n",
    "# Apply the encoding to the 'PriceRange' column\n",
    "raw_data['EncodedPrice'] = raw_data['price_range'].map(price_range_encoding)\n",
    "\n",
    "raw_data.drop('price_range',axis=1,inplace=True)\n",
    "raw_data = raw_data.rename(columns={'EncodedPrice': 'price_range'})\n",
    "# Display the updated DataFrame\n",
    "raw_data.head(100)"
   ]
  },
  {
   "cell_type": "code",
   "execution_count": 155,
   "id": "40b83299",
   "metadata": {},
   "outputs": [],
   "source": [
    "raw_data.to_csv('Modified.csv', index=False)"
   ]
  },
  {
   "cell_type": "code",
   "execution_count": 7,
   "id": "84a11f6a",
   "metadata": {},
   "outputs": [
    {
     "data": {
      "text/html": [
       "<div>\n",
       "<style scoped>\n",
       "    .dataframe tbody tr th:only-of-type {\n",
       "        vertical-align: middle;\n",
       "    }\n",
       "\n",
       "    .dataframe tbody tr th {\n",
       "        vertical-align: top;\n",
       "    }\n",
       "\n",
       "    .dataframe thead th {\n",
       "        text-align: right;\n",
       "    }\n",
       "</style>\n",
       "<table border=\"1\" class=\"dataframe\">\n",
       "  <thead>\n",
       "    <tr style=\"text-align: right;\">\n",
       "      <th></th>\n",
       "      <th>battery_power</th>\n",
       "      <th>int_memory</th>\n",
       "      <th>fc</th>\n",
       "      <th>n_cores</th>\n",
       "      <th>ram</th>\n",
       "      <th>talk_time</th>\n",
       "      <th>dual_sim</th>\n",
       "      <th>wifi</th>\n",
       "      <th>pc</th>\n",
       "      <th>mobile_wt</th>\n",
       "      <th>price_range</th>\n",
       "    </tr>\n",
       "  </thead>\n",
       "  <tbody>\n",
       "    <tr>\n",
       "      <th>count</th>\n",
       "      <td>2000.000000</td>\n",
       "      <td>2000.000000</td>\n",
       "      <td>2000.000000</td>\n",
       "      <td>2000.000000</td>\n",
       "      <td>2000.000000</td>\n",
       "      <td>2000.000000</td>\n",
       "      <td>2000.000000</td>\n",
       "      <td>2000.000000</td>\n",
       "      <td>2000.000000</td>\n",
       "      <td>2000.000000</td>\n",
       "      <td>2000.000000</td>\n",
       "    </tr>\n",
       "    <tr>\n",
       "      <th>mean</th>\n",
       "      <td>1238.518500</td>\n",
       "      <td>32.046500</td>\n",
       "      <td>4.309500</td>\n",
       "      <td>4.520500</td>\n",
       "      <td>2124.213000</td>\n",
       "      <td>11.011000</td>\n",
       "      <td>0.509500</td>\n",
       "      <td>0.507000</td>\n",
       "      <td>9.916500</td>\n",
       "      <td>140.249000</td>\n",
       "      <td>1.500000</td>\n",
       "    </tr>\n",
       "    <tr>\n",
       "      <th>std</th>\n",
       "      <td>439.418206</td>\n",
       "      <td>18.145715</td>\n",
       "      <td>4.341444</td>\n",
       "      <td>2.287837</td>\n",
       "      <td>1084.732044</td>\n",
       "      <td>5.463955</td>\n",
       "      <td>0.500035</td>\n",
       "      <td>0.500076</td>\n",
       "      <td>6.064315</td>\n",
       "      <td>35.399655</td>\n",
       "      <td>1.118314</td>\n",
       "    </tr>\n",
       "    <tr>\n",
       "      <th>min</th>\n",
       "      <td>501.000000</td>\n",
       "      <td>2.000000</td>\n",
       "      <td>0.000000</td>\n",
       "      <td>1.000000</td>\n",
       "      <td>256.000000</td>\n",
       "      <td>2.000000</td>\n",
       "      <td>0.000000</td>\n",
       "      <td>0.000000</td>\n",
       "      <td>0.000000</td>\n",
       "      <td>80.000000</td>\n",
       "      <td>0.000000</td>\n",
       "    </tr>\n",
       "    <tr>\n",
       "      <th>25%</th>\n",
       "      <td>851.750000</td>\n",
       "      <td>16.000000</td>\n",
       "      <td>1.000000</td>\n",
       "      <td>3.000000</td>\n",
       "      <td>1207.500000</td>\n",
       "      <td>6.000000</td>\n",
       "      <td>0.000000</td>\n",
       "      <td>0.000000</td>\n",
       "      <td>5.000000</td>\n",
       "      <td>109.000000</td>\n",
       "      <td>0.750000</td>\n",
       "    </tr>\n",
       "    <tr>\n",
       "      <th>50%</th>\n",
       "      <td>1226.000000</td>\n",
       "      <td>32.000000</td>\n",
       "      <td>3.000000</td>\n",
       "      <td>4.000000</td>\n",
       "      <td>2146.500000</td>\n",
       "      <td>11.000000</td>\n",
       "      <td>1.000000</td>\n",
       "      <td>1.000000</td>\n",
       "      <td>10.000000</td>\n",
       "      <td>141.000000</td>\n",
       "      <td>1.500000</td>\n",
       "    </tr>\n",
       "    <tr>\n",
       "      <th>75%</th>\n",
       "      <td>1615.250000</td>\n",
       "      <td>48.000000</td>\n",
       "      <td>7.000000</td>\n",
       "      <td>7.000000</td>\n",
       "      <td>3064.500000</td>\n",
       "      <td>16.000000</td>\n",
       "      <td>1.000000</td>\n",
       "      <td>1.000000</td>\n",
       "      <td>15.000000</td>\n",
       "      <td>170.000000</td>\n",
       "      <td>2.250000</td>\n",
       "    </tr>\n",
       "    <tr>\n",
       "      <th>max</th>\n",
       "      <td>1998.000000</td>\n",
       "      <td>64.000000</td>\n",
       "      <td>19.000000</td>\n",
       "      <td>8.000000</td>\n",
       "      <td>3998.000000</td>\n",
       "      <td>20.000000</td>\n",
       "      <td>1.000000</td>\n",
       "      <td>1.000000</td>\n",
       "      <td>20.000000</td>\n",
       "      <td>200.000000</td>\n",
       "      <td>3.000000</td>\n",
       "    </tr>\n",
       "  </tbody>\n",
       "</table>\n",
       "</div>"
      ],
      "text/plain": [
       "       battery_power   int_memory           fc      n_cores          ram  \\\n",
       "count    2000.000000  2000.000000  2000.000000  2000.000000  2000.000000   \n",
       "mean     1238.518500    32.046500     4.309500     4.520500  2124.213000   \n",
       "std       439.418206    18.145715     4.341444     2.287837  1084.732044   \n",
       "min       501.000000     2.000000     0.000000     1.000000   256.000000   \n",
       "25%       851.750000    16.000000     1.000000     3.000000  1207.500000   \n",
       "50%      1226.000000    32.000000     3.000000     4.000000  2146.500000   \n",
       "75%      1615.250000    48.000000     7.000000     7.000000  3064.500000   \n",
       "max      1998.000000    64.000000    19.000000     8.000000  3998.000000   \n",
       "\n",
       "         talk_time     dual_sim         wifi           pc    mobile_wt  \\\n",
       "count  2000.000000  2000.000000  2000.000000  2000.000000  2000.000000   \n",
       "mean     11.011000     0.509500     0.507000     9.916500   140.249000   \n",
       "std       5.463955     0.500035     0.500076     6.064315    35.399655   \n",
       "min       2.000000     0.000000     0.000000     0.000000    80.000000   \n",
       "25%       6.000000     0.000000     0.000000     5.000000   109.000000   \n",
       "50%      11.000000     1.000000     1.000000    10.000000   141.000000   \n",
       "75%      16.000000     1.000000     1.000000    15.000000   170.000000   \n",
       "max      20.000000     1.000000     1.000000    20.000000   200.000000   \n",
       "\n",
       "       price_range  \n",
       "count  2000.000000  \n",
       "mean      1.500000  \n",
       "std       1.118314  \n",
       "min       0.000000  \n",
       "25%       0.750000  \n",
       "50%       1.500000  \n",
       "75%       2.250000  \n",
       "max       3.000000  "
      ]
     },
     "execution_count": 7,
     "metadata": {},
     "output_type": "execute_result"
    }
   ],
   "source": [
    "raw_data.describe()"
   ]
  },
  {
   "cell_type": "markdown",
   "id": "9b8cbf08",
   "metadata": {},
   "source": [
    "# Data Distribution"
   ]
  },
  {
   "cell_type": "code",
   "execution_count": 8,
   "id": "ad729ba4",
   "metadata": {},
   "outputs": [
    {
     "data": {
      "text/plain": [
       "<Axes: xlabel='price_range', ylabel='count'>"
      ]
     },
     "execution_count": 8,
     "metadata": {},
     "output_type": "execute_result"
    },
    {
     "data": {
      "image/png": "[encoded data removed]",
      "text/plain": [
       "<Figure size 640x480 with 1 Axes>"
      ]
     },
     "metadata": {},
     "output_type": "display_data"
    }
   ],
   "source": [
    "sns.countplot(x='price_range', data=raw_data)"
   ]
  },
  {
   "cell_type": "markdown",
   "id": "f54312a3",
   "metadata": {},
   "source": [
    "Lets how the battery mAh is spread."
   ]
  },
  {
   "cell_type": "code",
   "execution_count": 9,
   "id": "ead020ee",
   "metadata": {},
   "outputs": [
    {
     "data": {
      "image/png": "[encoded data removed]",
      "text/plain": [
       "<Figure size 640x480 with 1 Axes>"
      ]
     },
     "metadata": {},
     "output_type": "display_data"
    }
   ],
   "source": [
    "labels = [\"Wifi-supported\",'Not supported']\n",
    "values=raw_data['wifi'].value_counts().values\n",
    "fig1, ax1 = plt.subplots()\n",
    "ax1.pie(values, labels=labels, autopct='%1.1f%%',shadow=True,startangle=90)\n",
    "plt.show()"
   ]
  },
  {
   "cell_type": "code",
   "execution_count": 10,
   "id": "7f50a339",
   "metadata": {},
   "outputs": [
    {
     "name": "stderr",
     "output_type": "stream",
     "text": [
      "C:\\Users\\nazil\\anaconda3\\Lib\\site-packages\\seaborn\\axisgrid.py:118: UserWarning: The figure layout has changed to tight\n",
      "  self._figure.tight_layout(*args, **kwargs)\n"
     ]
    },
    {
     "data": {
      "image/png": "[encoded data removed]",
      "text/plain": [
       "<Figure size 500x500 with 1 Axes>"
      ]
     },
     "metadata": {},
     "output_type": "display_data"
    }
   ],
   "source": [
    "sns.set(rc={'figure.figsize':(5,5)})\n",
    "dd =sns.displot(data=raw_data[\"battery_power\"])\n",
    "plt.show()"
   ]
  },
  {
   "cell_type": "markdown",
   "id": "649c0b8c",
   "metadata": {},
   "source": [
    "Next, we analyse the Screen width.\n",
    "\n"
   ]
  },
  {
   "cell_type": "code",
   "execution_count": 11,
   "id": "8fe5957b",
   "metadata": {},
   "outputs": [
    {
     "name": "stderr",
     "output_type": "stream",
     "text": [
      "C:\\Users\\nazil\\anaconda3\\Lib\\site-packages\\seaborn\\axisgrid.py:118: UserWarning: The figure layout has changed to tight\n",
      "  self._figure.tight_layout(*args, **kwargs)\n"
     ]
    },
    {
     "data": {
      "image/png": "[encoded data removed]",
      "text/plain": [
       "<Figure size 500x500 with 1 Axes>"
      ]
     },
     "metadata": {},
     "output_type": "display_data"
    }
   ],
   "source": [
    "sns.set(rc={'figure.figsize':(5,5)})\n",
    "ax=sns.displot(data=raw_data[\"mobile_wt\"])\n",
    "plt.show()"
   ]
  },
  {
   "cell_type": "code",
   "execution_count": 12,
   "id": "41e6013c",
   "metadata": {},
   "outputs": [
    {
     "data": {
      "image/png": "[encoded data removed]",
      "text/plain": [
       "<Figure size 1400x1000 with 2 Axes>"
      ]
     },
     "metadata": {},
     "output_type": "display_data"
    }
   ],
   "source": [
    "plt.figure(figsize=(14,10))\n",
    "sns.heatmap(raw_data.corr(), annot=True, fmt=\".2f\");"
   ]
  },
  {
   "cell_type": "markdown",
   "id": "4f79b679",
   "metadata": {},
   "source": [
    "# Price range according to the no of cores and battery power"
   ]
  },
  {
   "cell_type": "code",
   "execution_count": 13,
   "id": "fe43e58f",
   "metadata": {},
   "outputs": [
    {
     "data": {
      "image/png": "[encoded data removed]",
      "text/plain": [
       "<Figure size 1500x600 with 1 Axes>"
      ]
     },
     "metadata": {},
     "output_type": "display_data"
    }
   ],
   "source": [
    "plt.figure(figsize=(15,6));\n",
    "sns.barplot( x= \"n_cores\", y = \"battery_power\" ,hue=\"price_range\", data=raw_data)\n",
    "plt.xticks(rotation=90);"
   ]
  },
  {
   "cell_type": "code",
   "execution_count": 14,
   "id": "3d36d488",
   "metadata": {},
   "outputs": [
    {
     "name": "stderr",
     "output_type": "stream",
     "text": [
      "C:\\Users\\nazil\\anaconda3\\Lib\\site-packages\\seaborn\\axisgrid.py:118: UserWarning: The figure layout has changed to tight\n",
      "  self._figure.tight_layout(*args, **kwargs)\n"
     ]
    },
    {
     "data": {
      "image/png": "[encoded data removed]",
      "text/plain": [
       "<Figure size 500x500 with 1 Axes>"
      ]
     },
     "metadata": {},
     "output_type": "display_data"
    }
   ],
   "source": [
    "sns.set(rc={'figure.figsize':(5,5)})\n",
    "ax=sns.displot(data=raw_data[\"talk_time\"])\n",
    "plt.show()"
   ]
  },
  {
   "cell_type": "markdown",
   "id": "41f8ad11",
   "metadata": {},
   "source": [
    "# RAM vs Price Range"
   ]
  },
  {
   "cell_type": "code",
   "execution_count": 15,
   "id": "de36a8a9",
   "metadata": {},
   "outputs": [
    {
     "data": {
      "text/plain": [
       "<Axes: xlabel='price_range', ylabel='ram'>"
      ]
     },
     "execution_count": 15,
     "metadata": {},
     "output_type": "execute_result"
    },
    {
     "data": {
      "image/png": "[encoded data removed]",
      "text/plain": [
       "<Figure size 500x500 with 1 Axes>"
      ]
     },
     "metadata": {},
     "output_type": "display_data"
    }
   ],
   "source": [
    "sns.pointplot(y=\"ram\", x=\"price_range\", data=raw_data)"
   ]
  },
  {
   "cell_type": "code",
   "execution_count": 16,
   "id": "68de6876",
   "metadata": {},
   "outputs": [
    {
     "name": "stderr",
     "output_type": "stream",
     "text": [
      "C:\\Users\\nazil\\anaconda3\\Lib\\site-packages\\seaborn\\axisgrid.py:118: UserWarning: The figure layout has changed to tight\n",
      "  self._figure.tight_layout(*args, **kwargs)\n"
     ]
    },
    {
     "data": {
      "image/png": "[encoded data removed]",
      "text/plain": [
       "<Figure size 500x500 with 1 Axes>"
      ]
     },
     "metadata": {},
     "output_type": "display_data"
    }
   ],
   "source": [
    "sns.catplot(x=\"price_range\",y=\"ram\",data=raw_data)\n",
    "plt.xticks(rotation=90);"
   ]
  },
  {
   "cell_type": "markdown",
   "id": "67da8097",
   "metadata": {},
   "source": [
    "A few mobiles are very thin and a few ones are almost a cm thick"
   ]
  },
  {
   "cell_type": "markdown",
   "id": "4fea73c4",
   "metadata": {},
   "source": [
    "# Split the data "
   ]
  },
  {
   "cell_type": "code",
   "execution_count": 17,
   "id": "77257280",
   "metadata": {},
   "outputs": [],
   "source": [
    "X = raw_data.drop('price_range',axis=1)\n",
    "y = raw_data['price_range']"
   ]
  },
  {
   "cell_type": "code",
   "execution_count": 18,
   "id": "2d835e02",
   "metadata": {},
   "outputs": [],
   "source": [
    "X_train,X_test,y_train,y_test=train_test_split(X,y,test_size=0.1,random_state=120)"
   ]
  },
  {
   "cell_type": "markdown",
   "id": "e4292b8a",
   "metadata": {},
   "source": [
    "### Standard Scaler"
   ]
  },
  {
   "cell_type": "code",
   "execution_count": 19,
   "id": "8b9b9b62",
   "metadata": {},
   "outputs": [],
   "source": [
    "scaler=StandardScaler()\n",
    "X_train=pd.DataFrame(scaler.fit_transform(X_train))\n",
    "X_test=pd.DataFrame(scaler.fit_transform(X_test))"
   ]
  },
  {
   "cell_type": "code",
   "execution_count": 20,
   "id": "938c7d7d",
   "metadata": {},
   "outputs": [
    {
     "data": {
      "text/html": [
       "<div>\n",
       "<style scoped>\n",
       "    .dataframe tbody tr th:only-of-type {\n",
       "        vertical-align: middle;\n",
       "    }\n",
       "\n",
       "    .dataframe tbody tr th {\n",
       "        vertical-align: top;\n",
       "    }\n",
       "\n",
       "    .dataframe thead th {\n",
       "        text-align: right;\n",
       "    }\n",
       "</style>\n",
       "<table border=\"1\" class=\"dataframe\">\n",
       "  <thead>\n",
       "    <tr style=\"text-align: right;\">\n",
       "      <th></th>\n",
       "      <th>0</th>\n",
       "      <th>1</th>\n",
       "      <th>2</th>\n",
       "      <th>3</th>\n",
       "      <th>4</th>\n",
       "      <th>5</th>\n",
       "      <th>6</th>\n",
       "      <th>7</th>\n",
       "      <th>8</th>\n",
       "      <th>9</th>\n",
       "    </tr>\n",
       "  </thead>\n",
       "  <tbody>\n",
       "    <tr>\n",
       "      <th>0</th>\n",
       "      <td>-1.405466</td>\n",
       "      <td>-1.611601</td>\n",
       "      <td>-0.760358</td>\n",
       "      <td>1.521567</td>\n",
       "      <td>1.305388</td>\n",
       "      <td>-1.468024</td>\n",
       "      <td>-1.016808</td>\n",
       "      <td>0.991150</td>\n",
       "      <td>-0.482307</td>\n",
       "      <td>-1.077406</td>\n",
       "    </tr>\n",
       "    <tr>\n",
       "      <th>1</th>\n",
       "      <td>-0.534595</td>\n",
       "      <td>-0.616824</td>\n",
       "      <td>0.162064</td>\n",
       "      <td>1.521567</td>\n",
       "      <td>-0.762504</td>\n",
       "      <td>0.177788</td>\n",
       "      <td>0.983470</td>\n",
       "      <td>-1.008929</td>\n",
       "      <td>0.342463</td>\n",
       "      <td>1.265736</td>\n",
       "    </tr>\n",
       "    <tr>\n",
       "      <th>2</th>\n",
       "      <td>-0.582220</td>\n",
       "      <td>-0.229966</td>\n",
       "      <td>2.006909</td>\n",
       "      <td>-0.222905</td>\n",
       "      <td>-0.903076</td>\n",
       "      <td>1.274996</td>\n",
       "      <td>-1.016808</td>\n",
       "      <td>-1.008929</td>\n",
       "      <td>1.662095</td>\n",
       "      <td>1.181044</td>\n",
       "    </tr>\n",
       "    <tr>\n",
       "      <th>3</th>\n",
       "      <td>1.445278</td>\n",
       "      <td>-0.782620</td>\n",
       "      <td>-0.068541</td>\n",
       "      <td>-0.659023</td>\n",
       "      <td>1.116725</td>\n",
       "      <td>-0.736552</td>\n",
       "      <td>-1.016808</td>\n",
       "      <td>-1.008929</td>\n",
       "      <td>-0.812215</td>\n",
       "      <td>-0.061104</td>\n",
       "    </tr>\n",
       "    <tr>\n",
       "      <th>4</th>\n",
       "      <td>-1.437217</td>\n",
       "      <td>0.654281</td>\n",
       "      <td>2.468120</td>\n",
       "      <td>-1.531259</td>\n",
       "      <td>0.421262</td>\n",
       "      <td>0.726392</td>\n",
       "      <td>-1.016808</td>\n",
       "      <td>0.991150</td>\n",
       "      <td>1.002279</td>\n",
       "      <td>-0.653947</td>\n",
       "    </tr>\n",
       "    <tr>\n",
       "      <th>...</th>\n",
       "      <td>...</td>\n",
       "      <td>...</td>\n",
       "      <td>...</td>\n",
       "      <td>...</td>\n",
       "      <td>...</td>\n",
       "      <td>...</td>\n",
       "      <td>...</td>\n",
       "      <td>...</td>\n",
       "      <td>...</td>\n",
       "      <td>...</td>\n",
       "    </tr>\n",
       "    <tr>\n",
       "      <th>1795</th>\n",
       "      <td>1.107361</td>\n",
       "      <td>1.538528</td>\n",
       "      <td>3.159937</td>\n",
       "      <td>-0.222905</td>\n",
       "      <td>-0.837414</td>\n",
       "      <td>1.640732</td>\n",
       "      <td>0.983470</td>\n",
       "      <td>-1.008929</td>\n",
       "      <td>1.662095</td>\n",
       "      <td>0.870507</td>\n",
       "    </tr>\n",
       "    <tr>\n",
       "      <th>1796</th>\n",
       "      <td>-1.069818</td>\n",
       "      <td>-0.395762</td>\n",
       "      <td>-0.299147</td>\n",
       "      <td>-0.222905</td>\n",
       "      <td>-1.253582</td>\n",
       "      <td>1.640732</td>\n",
       "      <td>-1.016808</td>\n",
       "      <td>-1.008929</td>\n",
       "      <td>-0.647261</td>\n",
       "      <td>-1.529096</td>\n",
       "    </tr>\n",
       "    <tr>\n",
       "      <th>1797</th>\n",
       "      <td>-1.210427</td>\n",
       "      <td>-1.058947</td>\n",
       "      <td>1.545698</td>\n",
       "      <td>1.521567</td>\n",
       "      <td>-1.533801</td>\n",
       "      <td>-1.102288</td>\n",
       "      <td>-1.016808</td>\n",
       "      <td>0.991150</td>\n",
       "      <td>0.837325</td>\n",
       "      <td>-1.670249</td>\n",
       "    </tr>\n",
       "    <tr>\n",
       "      <th>1798</th>\n",
       "      <td>1.211685</td>\n",
       "      <td>-0.948416</td>\n",
       "      <td>-0.990963</td>\n",
       "      <td>-0.222905</td>\n",
       "      <td>-0.530374</td>\n",
       "      <td>-0.187948</td>\n",
       "      <td>0.983470</td>\n",
       "      <td>-1.008929</td>\n",
       "      <td>-0.482307</td>\n",
       "      <td>-1.133867</td>\n",
       "    </tr>\n",
       "    <tr>\n",
       "      <th>1799</th>\n",
       "      <td>-0.682008</td>\n",
       "      <td>-0.285231</td>\n",
       "      <td>0.853881</td>\n",
       "      <td>-0.222905</td>\n",
       "      <td>-1.422823</td>\n",
       "      <td>0.360656</td>\n",
       "      <td>0.983470</td>\n",
       "      <td>0.991150</td>\n",
       "      <td>-0.152399</td>\n",
       "      <td>-1.387943</td>\n",
       "    </tr>\n",
       "  </tbody>\n",
       "</table>\n",
       "<p>1800 rows × 10 columns</p>\n",
       "</div>"
      ],
      "text/plain": [
       "             0         1         2         3         4         5         6  \\\n",
       "0    -1.405466 -1.611601 -0.760358  1.521567  1.305388 -1.468024 -1.016808   \n",
       "1    -0.534595 -0.616824  0.162064  1.521567 -0.762504  0.177788  0.983470   \n",
       "2    -0.582220 -0.229966  2.006909 -0.222905 -0.903076  1.274996 -1.016808   \n",
       "3     1.445278 -0.782620 -0.068541 -0.659023  1.116725 -0.736552 -1.016808   \n",
       "4    -1.437217  0.654281  2.468120 -1.531259  0.421262  0.726392 -1.016808   \n",
       "...        ...       ...       ...       ...       ...       ...       ...   \n",
       "1795  1.107361  1.538528  3.159937 -0.222905 -0.837414  1.640732  0.983470   \n",
       "1796 -1.069818 -0.395762 -0.299147 -0.222905 -1.253582  1.640732 -1.016808   \n",
       "1797 -1.210427 -1.058947  1.545698  1.521567 -1.533801 -1.102288 -1.016808   \n",
       "1798  1.211685 -0.948416 -0.990963 -0.222905 -0.530374 -0.187948  0.983470   \n",
       "1799 -0.682008 -0.285231  0.853881 -0.222905 -1.422823  0.360656  0.983470   \n",
       "\n",
       "             7         8         9  \n",
       "0     0.991150 -0.482307 -1.077406  \n",
       "1    -1.008929  0.342463  1.265736  \n",
       "2    -1.008929  1.662095  1.181044  \n",
       "3    -1.008929 -0.812215 -0.061104  \n",
       "4     0.991150  1.002279 -0.653947  \n",
       "...        ...       ...       ...  \n",
       "1795 -1.008929  1.662095  0.870507  \n",
       "1796 -1.008929 -0.647261 -1.529096  \n",
       "1797  0.991150  0.837325 -1.670249  \n",
       "1798 -1.008929 -0.482307 -1.133867  \n",
       "1799  0.991150 -0.152399 -1.387943  \n",
       "\n",
       "[1800 rows x 10 columns]"
      ]
     },
     "execution_count": 20,
     "metadata": {},
     "output_type": "execute_result"
    }
   ],
   "source": [
    "X_train"
   ]
  },
  {
   "cell_type": "code",
   "execution_count": 21,
   "id": "403751cb",
   "metadata": {},
   "outputs": [
    {
     "data": {
      "text/html": [
       "<div>\n",
       "<style scoped>\n",
       "    .dataframe tbody tr th:only-of-type {\n",
       "        vertical-align: middle;\n",
       "    }\n",
       "\n",
       "    .dataframe tbody tr th {\n",
       "        vertical-align: top;\n",
       "    }\n",
       "\n",
       "    .dataframe thead th {\n",
       "        text-align: right;\n",
       "    }\n",
       "</style>\n",
       "<table border=\"1\" class=\"dataframe\">\n",
       "  <thead>\n",
       "    <tr style=\"text-align: right;\">\n",
       "      <th></th>\n",
       "      <th>0</th>\n",
       "      <th>1</th>\n",
       "      <th>2</th>\n",
       "      <th>3</th>\n",
       "      <th>4</th>\n",
       "      <th>5</th>\n",
       "      <th>6</th>\n",
       "      <th>7</th>\n",
       "      <th>8</th>\n",
       "      <th>9</th>\n",
       "    </tr>\n",
       "  </thead>\n",
       "  <tbody>\n",
       "    <tr>\n",
       "      <th>0</th>\n",
       "      <td>1.870643</td>\n",
       "      <td>-0.864546</td>\n",
       "      <td>-0.324631</td>\n",
       "      <td>-1.613985</td>\n",
       "      <td>-0.226259</td>\n",
       "      <td>1.135473</td>\n",
       "      <td>-1.040833</td>\n",
       "      <td>0.941697</td>\n",
       "      <td>0.519209</td>\n",
       "      <td>1.139483</td>\n",
       "    </tr>\n",
       "    <tr>\n",
       "      <th>1</th>\n",
       "      <td>0.164076</td>\n",
       "      <td>1.456746</td>\n",
       "      <td>-1.010471</td>\n",
       "      <td>0.176844</td>\n",
       "      <td>1.066343</td>\n",
       "      <td>0.950542</td>\n",
       "      <td>-1.040833</td>\n",
       "      <td>0.941697</td>\n",
       "      <td>-1.458731</td>\n",
       "      <td>-1.054570</td>\n",
       "    </tr>\n",
       "    <tr>\n",
       "      <th>2</th>\n",
       "      <td>-0.827673</td>\n",
       "      <td>-0.540645</td>\n",
       "      <td>-0.324631</td>\n",
       "      <td>0.176844</td>\n",
       "      <td>-1.469423</td>\n",
       "      <td>-0.159040</td>\n",
       "      <td>-1.040833</td>\n",
       "      <td>0.941697</td>\n",
       "      <td>-0.469761</td>\n",
       "      <td>1.680872</td>\n",
       "    </tr>\n",
       "    <tr>\n",
       "      <th>3</th>\n",
       "      <td>-1.516453</td>\n",
       "      <td>1.402762</td>\n",
       "      <td>0.361209</td>\n",
       "      <td>-0.718570</td>\n",
       "      <td>0.048801</td>\n",
       "      <td>-0.713831</td>\n",
       "      <td>0.960769</td>\n",
       "      <td>0.941697</td>\n",
       "      <td>0.354381</td>\n",
       "      <td>-1.709937</td>\n",
       "    </tr>\n",
       "    <tr>\n",
       "      <th>4</th>\n",
       "      <td>0.980672</td>\n",
       "      <td>-1.188447</td>\n",
       "      <td>-0.324631</td>\n",
       "      <td>-1.613985</td>\n",
       "      <td>0.750833</td>\n",
       "      <td>-1.453553</td>\n",
       "      <td>-1.040833</td>\n",
       "      <td>-1.061913</td>\n",
       "      <td>0.519209</td>\n",
       "      <td>-0.684146</td>\n",
       "    </tr>\n",
       "    <tr>\n",
       "      <th>...</th>\n",
       "      <td>...</td>\n",
       "      <td>...</td>\n",
       "      <td>...</td>\n",
       "      <td>...</td>\n",
       "      <td>...</td>\n",
       "      <td>...</td>\n",
       "      <td>...</td>\n",
       "      <td>...</td>\n",
       "      <td>...</td>\n",
       "      <td>...</td>\n",
       "    </tr>\n",
       "    <tr>\n",
       "      <th>195</th>\n",
       "      <td>0.748711</td>\n",
       "      <td>0.916910</td>\n",
       "      <td>0.361209</td>\n",
       "      <td>0.176844</td>\n",
       "      <td>0.637573</td>\n",
       "      <td>0.025890</td>\n",
       "      <td>-1.040833</td>\n",
       "      <td>0.941697</td>\n",
       "      <td>0.684038</td>\n",
       "      <td>0.056703</td>\n",
       "    </tr>\n",
       "    <tr>\n",
       "      <th>196</th>\n",
       "      <td>-1.213484</td>\n",
       "      <td>-1.566332</td>\n",
       "      <td>-1.010471</td>\n",
       "      <td>-0.718570</td>\n",
       "      <td>-1.547626</td>\n",
       "      <td>-0.528901</td>\n",
       "      <td>-1.040833</td>\n",
       "      <td>0.941697</td>\n",
       "      <td>-1.293902</td>\n",
       "      <td>-1.481983</td>\n",
       "    </tr>\n",
       "    <tr>\n",
       "      <th>197</th>\n",
       "      <td>0.462311</td>\n",
       "      <td>0.808943</td>\n",
       "      <td>-1.010471</td>\n",
       "      <td>1.072259</td>\n",
       "      <td>0.248354</td>\n",
       "      <td>0.765612</td>\n",
       "      <td>0.960769</td>\n",
       "      <td>0.941697</td>\n",
       "      <td>-1.458731</td>\n",
       "      <td>-0.085768</td>\n",
       "    </tr>\n",
       "    <tr>\n",
       "      <th>198</th>\n",
       "      <td>0.968837</td>\n",
       "      <td>1.780647</td>\n",
       "      <td>0.589823</td>\n",
       "      <td>-0.270863</td>\n",
       "      <td>-1.053237</td>\n",
       "      <td>-0.343971</td>\n",
       "      <td>-1.040833</td>\n",
       "      <td>-1.061913</td>\n",
       "      <td>0.354381</td>\n",
       "      <td>1.139483</td>\n",
       "    </tr>\n",
       "    <tr>\n",
       "      <th>199</th>\n",
       "      <td>-1.002826</td>\n",
       "      <td>-0.054793</td>\n",
       "      <td>-0.324631</td>\n",
       "      <td>0.176844</td>\n",
       "      <td>1.593991</td>\n",
       "      <td>-0.713831</td>\n",
       "      <td>-1.040833</td>\n",
       "      <td>-1.061913</td>\n",
       "      <td>1.178523</td>\n",
       "      <td>0.199174</td>\n",
       "    </tr>\n",
       "  </tbody>\n",
       "</table>\n",
       "<p>200 rows × 10 columns</p>\n",
       "</div>"
      ],
      "text/plain": [
       "            0         1         2         3         4         5         6  \\\n",
       "0    1.870643 -0.864546 -0.324631 -1.613985 -0.226259  1.135473 -1.040833   \n",
       "1    0.164076  1.456746 -1.010471  0.176844  1.066343  0.950542 -1.040833   \n",
       "2   -0.827673 -0.540645 -0.324631  0.176844 -1.469423 -0.159040 -1.040833   \n",
       "3   -1.516453  1.402762  0.361209 -0.718570  0.048801 -0.713831  0.960769   \n",
       "4    0.980672 -1.188447 -0.324631 -1.613985  0.750833 -1.453553 -1.040833   \n",
       "..        ...       ...       ...       ...       ...       ...       ...   \n",
       "195  0.748711  0.916910  0.361209  0.176844  0.637573  0.025890 -1.040833   \n",
       "196 -1.213484 -1.566332 -1.010471 -0.718570 -1.547626 -0.528901 -1.040833   \n",
       "197  0.462311  0.808943 -1.010471  1.072259  0.248354  0.765612  0.960769   \n",
       "198  0.968837  1.780647  0.589823 -0.270863 -1.053237 -0.343971 -1.040833   \n",
       "199 -1.002826 -0.054793 -0.324631  0.176844  1.593991 -0.713831 -1.040833   \n",
       "\n",
       "            7         8         9  \n",
       "0    0.941697  0.519209  1.139483  \n",
       "1    0.941697 -1.458731 -1.054570  \n",
       "2    0.941697 -0.469761  1.680872  \n",
       "3    0.941697  0.354381 -1.709937  \n",
       "4   -1.061913  0.519209 -0.684146  \n",
       "..        ...       ...       ...  \n",
       "195  0.941697  0.684038  0.056703  \n",
       "196  0.941697 -1.293902 -1.481983  \n",
       "197  0.941697 -1.458731 -0.085768  \n",
       "198 -1.061913  0.354381  1.139483  \n",
       "199 -1.061913  1.178523  0.199174  \n",
       "\n",
       "[200 rows x 10 columns]"
      ]
     },
     "execution_count": 21,
     "metadata": {},
     "output_type": "execute_result"
    }
   ],
   "source": [
    "X_test"
   ]
  },
  {
   "cell_type": "markdown",
   "id": "e9aeb564",
   "metadata": {},
   "source": [
    "# Decision Tree Classifier "
   ]
  },
  {
   "cell_type": "code",
   "execution_count": 22,
   "id": "7e4f87ff",
   "metadata": {},
   "outputs": [
    {
     "data": {
      "text/html": [
       "<style>#sk-container-id-1 {color: black;}#sk-container-id-1 pre{padding: 0;}#sk-container-id-1 div.sk-toggleable {background-color: white;}#sk-container-id-1 label.sk-toggleable__label {cursor: pointer;display: block;width: 100%;margin-bottom: 0;padding: 0.3em;box-sizing: border-box;text-align: center;}#sk-container-id-1 label.sk-toggleable__label-arrow:before {content: \"▸\";float: left;margin-right: 0.25em;color: #696969;}#sk-container-id-1 label.sk-toggleable__label-arrow:hover:before {color: black;}#sk-container-id-1 div.sk-estimator:hover label.sk-toggleable__label-arrow:before {color: black;}#sk-container-id-1 div.sk-toggleable__content {max-height: 0;max-width: 0;overflow: hidden;text-align: left;background-color: #f0f8ff;}#sk-container-id-1 div.sk-toggleable__content pre {margin: 0.2em;color: black;border-radius: 0.25em;background-color: #f0f8ff;}#sk-container-id-1 input.sk-toggleable__control:checked~div.sk-toggleable__content {max-height: 200px;max-width: 100%;overflow: auto;}#sk-container-id-1 input.sk-toggleable__control:checked~label.sk-toggleable__label-arrow:before {content: \"▾\";}#sk-container-id-1 div.sk-estimator input.sk-toggleable__control:checked~label.sk-toggleable__label {background-color: #d4ebff;}#sk-container-id-1 div.sk-label input.sk-toggleable__control:checked~label.sk-toggleable__label {background-color: #d4ebff;}#sk-container-id-1 input.sk-hidden--visually {border: 0;clip: rect(1px 1px 1px 1px);clip: rect(1px, 1px, 1px, 1px);height: 1px;margin: -1px;overflow: hidden;padding: 0;position: absolute;width: 1px;}#sk-container-id-1 div.sk-estimator {font-family: monospace;background-color: #f0f8ff;border: 1px dotted black;border-radius: 0.25em;box-sizing: border-box;margin-bottom: 0.5em;}#sk-container-id-1 div.sk-estimator:hover {background-color: #d4ebff;}#sk-container-id-1 div.sk-parallel-item::after {content: \"\";width: 100%;border-bottom: 1px solid gray;flex-grow: 1;}#sk-container-id-1 div.sk-label:hover label.sk-toggleable__label {background-color: #d4ebff;}#sk-container-id-1 div.sk-serial::before {content: \"\";position: absolute;border-left: 1px solid gray;box-sizing: border-box;top: 0;bottom: 0;left: 50%;z-index: 0;}#sk-container-id-1 div.sk-serial {display: flex;flex-direction: column;align-items: center;background-color: white;padding-right: 0.2em;padding-left: 0.2em;position: relative;}#sk-container-id-1 div.sk-item {position: relative;z-index: 1;}#sk-container-id-1 div.sk-parallel {display: flex;align-items: stretch;justify-content: center;background-color: white;position: relative;}#sk-container-id-1 div.sk-item::before, #sk-container-id-1 div.sk-parallel-item::before {content: \"\";position: absolute;border-left: 1px solid gray;box-sizing: border-box;top: 0;bottom: 0;left: 50%;z-index: -1;}#sk-container-id-1 div.sk-parallel-item {display: flex;flex-direction: column;z-index: 1;position: relative;background-color: white;}#sk-container-id-1 div.sk-parallel-item:first-child::after {align-self: flex-end;width: 50%;}#sk-container-id-1 div.sk-parallel-item:last-child::after {align-self: flex-start;width: 50%;}#sk-container-id-1 div.sk-parallel-item:only-child::after {width: 0;}#sk-container-id-1 div.sk-dashed-wrapped {border: 1px dashed gray;margin: 0 0.4em 0.5em 0.4em;box-sizing: border-box;padding-bottom: 0.4em;background-color: white;}#sk-container-id-1 div.sk-label label {font-family: monospace;font-weight: bold;display: inline-block;line-height: 1.2em;}#sk-container-id-1 div.sk-label-container {text-align: center;}#sk-container-id-1 div.sk-container {/* jupyter's `normalize.less` sets `[hidden] { display: none; }` but bootstrap.min.css set `[hidden] { display: none !important; }` so we also need the `!important` here to be able to override the default hidden behavior on the sphinx rendered scikit-learn.org. See: https://github.com/scikit-learn/scikit-learn/issues/21755 */display: inline-block !important;position: relative;}#sk-container-id-1 div.sk-text-repr-fallback {display: none;}</style><div id=\"sk-container-id-1\" class=\"sk-top-container\"><div class=\"sk-text-repr-fallback\"><pre>DecisionTreeClassifier()</pre><b>In a Jupyter environment, please rerun this cell to show the HTML representation or trust the notebook. <br />On GitHub, the HTML representation is unable to render, please try loading this page with nbviewer.org.</b></div><div class=\"sk-container\" hidden><div class=\"sk-item\"><div class=\"sk-estimator sk-toggleable\"><input class=\"sk-toggleable__control sk-hidden--visually\" id=\"sk-estimator-id-1\" type=\"checkbox\" checked><label for=\"sk-estimator-id-1\" class=\"sk-toggleable__label sk-toggleable__label-arrow\">DecisionTreeClassifier</label><div class=\"sk-toggleable__content\"><pre>DecisionTreeClassifier()</pre></div></div></div></div></div>"
      ],
      "text/plain": [
       "DecisionTreeClassifier()"
      ]
     },
     "execution_count": 22,
     "metadata": {},
     "output_type": "execute_result"
    }
   ],
   "source": [
    "from sklearn.tree import DecisionTreeClassifier\n",
    "DTC = DecisionTreeClassifier()\n",
    "DTC.fit(X_train , y_train)"
   ]
  },
  {
   "cell_type": "code",
   "execution_count": 23,
   "id": "34bd8b1f",
   "metadata": {},
   "outputs": [
    {
     "data": {
      "text/plain": [
       "array([1, 3, 0, 2, 3, 1, 1, 2, 2, 1, 1, 3, 3, 3, 1, 3, 1, 1, 0, 3, 0, 0,\n",
       "       1, 0, 1, 3, 3, 3, 0, 1, 0, 1, 0, 0, 2, 1, 0, 2, 0, 1, 3, 1, 3, 3,\n",
       "       3, 1, 0, 2, 3, 1, 2, 2, 1, 3, 3, 3, 2, 1, 2, 1, 2, 3, 2, 0, 0, 2,\n",
       "       0, 0, 0, 3, 3, 2, 2, 1, 0, 1, 1, 3, 3, 3, 2, 3, 0, 3, 2, 2, 3, 2,\n",
       "       0, 2, 1, 3, 3, 0, 1, 0, 0, 1, 0, 1, 3, 1, 2, 2, 1, 3, 3, 0, 0, 2,\n",
       "       1, 2, 3, 0, 2, 3, 3, 0, 0, 1, 1, 0, 1, 0, 0, 1, 1, 0, 2, 0, 0, 0,\n",
       "       1, 2, 0, 3, 2, 0, 1, 2, 1, 1, 0, 1, 2, 2, 3, 3, 3, 2, 1, 3, 0, 0,\n",
       "       1, 0, 2, 3, 2, 2, 3, 3, 0, 2, 3, 2, 0, 0, 3, 0, 2, 0, 2, 3, 0, 2,\n",
       "       1, 0, 0, 3, 3, 3, 2, 1, 0, 3, 1, 3, 3, 1, 2, 0, 2, 1, 1, 2, 0, 2,\n",
       "       0, 2], dtype=int64)"
      ]
     },
     "execution_count": 23,
     "metadata": {},
     "output_type": "execute_result"
    }
   ],
   "source": [
    "DTC_predict = DTC.predict(X_test)\n",
    "DTC_predict"
   ]
  },
  {
   "cell_type": "code",
   "execution_count": 24,
   "id": "92481e35",
   "metadata": {},
   "outputs": [
    {
     "name": "stdout",
     "output_type": "stream",
     "text": [
      "0.73\n"
     ]
    }
   ],
   "source": [
    "from sklearn.metrics import accuracy_score\n",
    "DTC_acc = accuracy_score(DTC_predict,y_test)\n",
    "print(DTC_acc)"
   ]
  },
  {
   "cell_type": "markdown",
   "id": "6a578def",
   "metadata": {},
   "source": [
    "# Support Vector Classifier"
   ]
  },
  {
   "cell_type": "code",
   "execution_count": 25,
   "id": "9f29310a",
   "metadata": {},
   "outputs": [],
   "source": [
    "from sklearn.svm import SVC"
   ]
  },
  {
   "cell_type": "code",
   "execution_count": 26,
   "id": "1e595852",
   "metadata": {},
   "outputs": [],
   "source": [
    "KNN= SVC(kernel='linear', C=1.0, gamma='scale')"
   ]
  },
  {
   "cell_type": "code",
   "execution_count": 27,
   "id": "ab807a26",
   "metadata": {},
   "outputs": [
    {
     "data": {
      "text/html": [
       "<style>#sk-container-id-2 {color: black;}#sk-container-id-2 pre{padding: 0;}#sk-container-id-2 div.sk-toggleable {background-color: white;}#sk-container-id-2 label.sk-toggleable__label {cursor: pointer;display: block;width: 100%;margin-bottom: 0;padding: 0.3em;box-sizing: border-box;text-align: center;}#sk-container-id-2 label.sk-toggleable__label-arrow:before {content: \"▸\";float: left;margin-right: 0.25em;color: #696969;}#sk-container-id-2 label.sk-toggleable__label-arrow:hover:before {color: black;}#sk-container-id-2 div.sk-estimator:hover label.sk-toggleable__label-arrow:before {color: black;}#sk-container-id-2 div.sk-toggleable__content {max-height: 0;max-width: 0;overflow: hidden;text-align: left;background-color: #f0f8ff;}#sk-container-id-2 div.sk-toggleable__content pre {margin: 0.2em;color: black;border-radius: 0.25em;background-color: #f0f8ff;}#sk-container-id-2 input.sk-toggleable__control:checked~div.sk-toggleable__content {max-height: 200px;max-width: 100%;overflow: auto;}#sk-container-id-2 input.sk-toggleable__control:checked~label.sk-toggleable__label-arrow:before {content: \"▾\";}#sk-container-id-2 div.sk-estimator input.sk-toggleable__control:checked~label.sk-toggleable__label {background-color: #d4ebff;}#sk-container-id-2 div.sk-label input.sk-toggleable__control:checked~label.sk-toggleable__label {background-color: #d4ebff;}#sk-container-id-2 input.sk-hidden--visually {border: 0;clip: rect(1px 1px 1px 1px);clip: rect(1px, 1px, 1px, 1px);height: 1px;margin: -1px;overflow: hidden;padding: 0;position: absolute;width: 1px;}#sk-container-id-2 div.sk-estimator {font-family: monospace;background-color: #f0f8ff;border: 1px dotted black;border-radius: 0.25em;box-sizing: border-box;margin-bottom: 0.5em;}#sk-container-id-2 div.sk-estimator:hover {background-color: #d4ebff;}#sk-container-id-2 div.sk-parallel-item::after {content: \"\";width: 100%;border-bottom: 1px solid gray;flex-grow: 1;}#sk-container-id-2 div.sk-label:hover label.sk-toggleable__label {background-color: #d4ebff;}#sk-container-id-2 div.sk-serial::before {content: \"\";position: absolute;border-left: 1px solid gray;box-sizing: border-box;top: 0;bottom: 0;left: 50%;z-index: 0;}#sk-container-id-2 div.sk-serial {display: flex;flex-direction: column;align-items: center;background-color: white;padding-right: 0.2em;padding-left: 0.2em;position: relative;}#sk-container-id-2 div.sk-item {position: relative;z-index: 1;}#sk-container-id-2 div.sk-parallel {display: flex;align-items: stretch;justify-content: center;background-color: white;position: relative;}#sk-container-id-2 div.sk-item::before, #sk-container-id-2 div.sk-parallel-item::before {content: \"\";position: absolute;border-left: 1px solid gray;box-sizing: border-box;top: 0;bottom: 0;left: 50%;z-index: -1;}#sk-container-id-2 div.sk-parallel-item {display: flex;flex-direction: column;z-index: 1;position: relative;background-color: white;}#sk-container-id-2 div.sk-parallel-item:first-child::after {align-self: flex-end;width: 50%;}#sk-container-id-2 div.sk-parallel-item:last-child::after {align-self: flex-start;width: 50%;}#sk-container-id-2 div.sk-parallel-item:only-child::after {width: 0;}#sk-container-id-2 div.sk-dashed-wrapped {border: 1px dashed gray;margin: 0 0.4em 0.5em 0.4em;box-sizing: border-box;padding-bottom: 0.4em;background-color: white;}#sk-container-id-2 div.sk-label label {font-family: monospace;font-weight: bold;display: inline-block;line-height: 1.2em;}#sk-container-id-2 div.sk-label-container {text-align: center;}#sk-container-id-2 div.sk-container {/* jupyter's `normalize.less` sets `[hidden] { display: none; }` but bootstrap.min.css set `[hidden] { display: none !important; }` so we also need the `!important` here to be able to override the default hidden behavior on the sphinx rendered scikit-learn.org. See: https://github.com/scikit-learn/scikit-learn/issues/21755 */display: inline-block !important;position: relative;}#sk-container-id-2 div.sk-text-repr-fallback {display: none;}</style><div id=\"sk-container-id-2\" class=\"sk-top-container\"><div class=\"sk-text-repr-fallback\"><pre>SVC(kernel=&#x27;linear&#x27;)</pre><b>In a Jupyter environment, please rerun this cell to show the HTML representation or trust the notebook. <br />On GitHub, the HTML representation is unable to render, please try loading this page with nbviewer.org.</b></div><div class=\"sk-container\" hidden><div class=\"sk-item\"><div class=\"sk-estimator sk-toggleable\"><input class=\"sk-toggleable__control sk-hidden--visually\" id=\"sk-estimator-id-2\" type=\"checkbox\" checked><label for=\"sk-estimator-id-2\" class=\"sk-toggleable__label sk-toggleable__label-arrow\">SVC</label><div class=\"sk-toggleable__content\"><pre>SVC(kernel=&#x27;linear&#x27;)</pre></div></div></div></div></div>"
      ],
      "text/plain": [
       "SVC(kernel='linear')"
      ]
     },
     "execution_count": 27,
     "metadata": {},
     "output_type": "execute_result"
    }
   ],
   "source": [
    "KNN.fit(X_train, y_train)\n"
   ]
  },
  {
   "cell_type": "code",
   "execution_count": 28,
   "id": "44675d76",
   "metadata": {},
   "outputs": [],
   "source": [
    "y_pre = KNN.predict(X_test)"
   ]
  },
  {
   "cell_type": "code",
   "execution_count": 29,
   "id": "f995575c",
   "metadata": {},
   "outputs": [
    {
     "data": {
      "text/plain": [
       "array([2, 3, 0, 1, 3, 1, 2, 2, 3, 1, 0, 2, 3, 3, 1, 3, 1, 1, 1, 3, 0, 0,\n",
       "       1, 0, 1, 3, 2, 3, 0, 1, 0, 1, 0, 0, 2, 1, 0, 3, 0, 1, 3, 0, 3, 2,\n",
       "       3, 0, 0, 2, 3, 1, 2, 3, 1, 3, 3, 3, 2, 0, 2, 1, 2, 3, 3, 0, 0, 2,\n",
       "       0, 0, 0, 3, 3, 2, 2, 1, 0, 1, 1, 2, 3, 3, 2, 2, 0, 3, 3, 2, 3, 2,\n",
       "       0, 2, 1, 3, 3, 0, 0, 0, 0, 1, 1, 1, 3, 2, 1, 2, 1, 3, 3, 0, 0, 2,\n",
       "       1, 2, 3, 0, 2, 3, 3, 0, 0, 1, 1, 0, 1, 1, 0, 1, 1, 0, 2, 0, 0, 0,\n",
       "       1, 1, 0, 3, 1, 0, 1, 2, 1, 2, 0, 1, 1, 1, 3, 3, 3, 2, 1, 2, 0, 0,\n",
       "       1, 0, 2, 3, 1, 3, 2, 3, 0, 2, 3, 2, 0, 0, 2, 1, 2, 0, 2, 3, 0, 2,\n",
       "       1, 0, 1, 2, 2, 3, 2, 1, 0, 3, 2, 3, 3, 2, 1, 0, 2, 1, 2, 3, 0, 2,\n",
       "       1, 3], dtype=int64)"
      ]
     },
     "execution_count": 29,
     "metadata": {},
     "output_type": "execute_result"
    }
   ],
   "source": [
    "y_pre"
   ]
  },
  {
   "cell_type": "code",
   "execution_count": 30,
   "id": "663849a1",
   "metadata": {},
   "outputs": [
    {
     "data": {
      "text/plain": [
       "0.85"
      ]
     },
     "execution_count": 30,
     "metadata": {},
     "output_type": "execute_result"
    }
   ],
   "source": [
    "from sklearn.metrics import accuracy_score\n",
    "accuracy = accuracy_score(y_test, y_pre)\n",
    "accuracy"
   ]
  },
  {
   "cell_type": "markdown",
   "id": "1a99829a",
   "metadata": {},
   "source": [
    "# Naive Bayes"
   ]
  },
  {
   "cell_type": "markdown",
   "id": "e3a47bee",
   "metadata": {},
   "source": [
    "# Gaussian "
   ]
  },
  {
   "cell_type": "code",
   "execution_count": 31,
   "id": "fe8073d6",
   "metadata": {},
   "outputs": [],
   "source": [
    "from sklearn.naive_bayes import GaussianNB"
   ]
  },
  {
   "cell_type": "code",
   "execution_count": 32,
   "id": "68bb60c0",
   "metadata": {},
   "outputs": [
    {
     "data": {
      "text/plain": [
       "0.855"
      ]
     },
     "execution_count": 32,
     "metadata": {},
     "output_type": "execute_result"
    }
   ],
   "source": [
    "NBC_gu=GaussianNB()\n",
    "NBC_gu.fit(X_train,y_train)\n",
    "NBC_gu.score (X_test,y_test)"
   ]
  },
  {
   "cell_type": "code",
   "execution_count": 33,
   "id": "0fb6c1e0",
   "metadata": {},
   "outputs": [],
   "source": [
    "y_pre=NBC_gu.predict(X_test)"
   ]
  },
  {
   "cell_type": "code",
   "execution_count": 34,
   "id": "38ddebe5",
   "metadata": {},
   "outputs": [
    {
     "data": {
      "text/plain": [
       "array([1, 3, 0, 1, 3, 1, 2, 2, 3, 1, 0, 2, 3, 3, 1, 3, 1, 1, 1, 3, 0, 0,\n",
       "       1, 0, 1, 3, 3, 3, 0, 1, 0, 1, 0, 0, 2, 1, 0, 3, 0, 1, 3, 0, 3, 2,\n",
       "       3, 0, 0, 2, 3, 1, 2, 3, 1, 3, 2, 3, 1, 0, 2, 1, 2, 3, 3, 1, 0, 2,\n",
       "       0, 0, 0, 3, 3, 2, 2, 1, 0, 1, 1, 2, 3, 3, 2, 2, 0, 3, 2, 2, 3, 2,\n",
       "       0, 2, 1, 3, 3, 0, 0, 0, 0, 1, 1, 1, 3, 2, 1, 2, 2, 3, 2, 0, 0, 2,\n",
       "       1, 2, 3, 0, 2, 3, 3, 0, 0, 2, 0, 0, 0, 1, 0, 1, 1, 0, 2, 0, 0, 0,\n",
       "       2, 1, 0, 3, 1, 0, 1, 2, 1, 2, 1, 0, 1, 2, 3, 3, 3, 2, 1, 2, 0, 0,\n",
       "       1, 0, 2, 3, 1, 3, 3, 3, 0, 2, 3, 2, 0, 0, 3, 1, 2, 0, 2, 3, 0, 2,\n",
       "       1, 0, 0, 2, 2, 3, 2, 1, 0, 3, 2, 3, 3, 1, 1, 0, 2, 1, 2, 2, 0, 2,\n",
       "       0, 3], dtype=int64)"
      ]
     },
     "execution_count": 34,
     "metadata": {},
     "output_type": "execute_result"
    }
   ],
   "source": [
    "y_pre"
   ]
  },
  {
   "cell_type": "code",
   "execution_count": 35,
   "id": "da7f0416",
   "metadata": {},
   "outputs": [],
   "source": [
    "from sklearn.metrics import confusion_matrix,classification_report,accuracy_score"
   ]
  },
  {
   "cell_type": "code",
   "execution_count": 36,
   "id": "33450852",
   "metadata": {},
   "outputs": [
    {
     "data": {
      "text/plain": [
       "array([[49,  7,  0,  0],\n",
       "       [ 4, 38,  4,  0],\n",
       "       [ 0,  4, 39,  6],\n",
       "       [ 0,  0,  4, 45]], dtype=int64)"
      ]
     },
     "execution_count": 36,
     "metadata": {},
     "output_type": "execute_result"
    }
   ],
   "source": [
    "confusion_matrix(y_pre,y_test)"
   ]
  },
  {
   "cell_type": "code",
   "execution_count": 37,
   "id": "f1833857",
   "metadata": {},
   "outputs": [
    {
     "data": {
      "text/plain": [
       "0.855"
      ]
     },
     "execution_count": 37,
     "metadata": {},
     "output_type": "execute_result"
    }
   ],
   "source": [
    "accuracy_score(y_pre,y_test)"
   ]
  },
  {
   "cell_type": "code",
   "execution_count": 38,
   "id": "68dfb345",
   "metadata": {},
   "outputs": [
    {
     "data": {
      "text/plain": [
       "'              precision    recall  f1-score   support\\n\\n           0       0.92      0.88      0.90        56\\n           1       0.78      0.83      0.80        46\\n           2       0.83      0.80      0.81        49\\n           3       0.88      0.92      0.90        49\\n\\n    accuracy                           0.85       200\\n   macro avg       0.85      0.85      0.85       200\\nweighted avg       0.86      0.85      0.86       200\\n'"
      ]
     },
     "execution_count": 38,
     "metadata": {},
     "output_type": "execute_result"
    }
   ],
   "source": [
    "classification_report(y_pre,y_test)"
   ]
  },
  {
   "cell_type": "markdown",
   "id": "d15fdeaa",
   "metadata": {},
   "source": [
    "# Multinomial"
   ]
  },
  {
   "cell_type": "code",
   "execution_count": 39,
   "id": "ef58c366",
   "metadata": {},
   "outputs": [],
   "source": [
    "from sklearn.naive_bayes import MultinomialNB\n",
    "from sklearn.preprocessing import MinMaxScaler"
   ]
  },
  {
   "cell_type": "code",
   "execution_count": 40,
   "id": "5a2c20f1",
   "metadata": {},
   "outputs": [],
   "source": [
    "scaler=MinMaxScaler()"
   ]
  },
  {
   "cell_type": "code",
   "execution_count": 41,
   "id": "f846c657",
   "metadata": {},
   "outputs": [],
   "source": [
    "X_train_scaled=scaler.fit_transform(X_train)\n",
    "X_test_scaled=scaler.transform(X_test)"
   ]
  },
  {
   "cell_type": "code",
   "execution_count": 42,
   "id": "d084ff1a",
   "metadata": {},
   "outputs": [],
   "source": [
    "NBC_MU=MultinomialNB()"
   ]
  },
  {
   "cell_type": "code",
   "execution_count": 43,
   "id": "340c6fd3",
   "metadata": {},
   "outputs": [
    {
     "data": {
      "text/html": [
       "<style>#sk-container-id-3 {color: black;}#sk-container-id-3 pre{padding: 0;}#sk-container-id-3 div.sk-toggleable {background-color: white;}#sk-container-id-3 label.sk-toggleable__label {cursor: pointer;display: block;width: 100%;margin-bottom: 0;padding: 0.3em;box-sizing: border-box;text-align: center;}#sk-container-id-3 label.sk-toggleable__label-arrow:before {content: \"▸\";float: left;margin-right: 0.25em;color: #696969;}#sk-container-id-3 label.sk-toggleable__label-arrow:hover:before {color: black;}#sk-container-id-3 div.sk-estimator:hover label.sk-toggleable__label-arrow:before {color: black;}#sk-container-id-3 div.sk-toggleable__content {max-height: 0;max-width: 0;overflow: hidden;text-align: left;background-color: #f0f8ff;}#sk-container-id-3 div.sk-toggleable__content pre {margin: 0.2em;color: black;border-radius: 0.25em;background-color: #f0f8ff;}#sk-container-id-3 input.sk-toggleable__control:checked~div.sk-toggleable__content {max-height: 200px;max-width: 100%;overflow: auto;}#sk-container-id-3 input.sk-toggleable__control:checked~label.sk-toggleable__label-arrow:before {content: \"▾\";}#sk-container-id-3 div.sk-estimator input.sk-toggleable__control:checked~label.sk-toggleable__label {background-color: #d4ebff;}#sk-container-id-3 div.sk-label input.sk-toggleable__control:checked~label.sk-toggleable__label {background-color: #d4ebff;}#sk-container-id-3 input.sk-hidden--visually {border: 0;clip: rect(1px 1px 1px 1px);clip: rect(1px, 1px, 1px, 1px);height: 1px;margin: -1px;overflow: hidden;padding: 0;position: absolute;width: 1px;}#sk-container-id-3 div.sk-estimator {font-family: monospace;background-color: #f0f8ff;border: 1px dotted black;border-radius: 0.25em;box-sizing: border-box;margin-bottom: 0.5em;}#sk-container-id-3 div.sk-estimator:hover {background-color: #d4ebff;}#sk-container-id-3 div.sk-parallel-item::after {content: \"\";width: 100%;border-bottom: 1px solid gray;flex-grow: 1;}#sk-container-id-3 div.sk-label:hover label.sk-toggleable__label {background-color: #d4ebff;}#sk-container-id-3 div.sk-serial::before {content: \"\";position: absolute;border-left: 1px solid gray;box-sizing: border-box;top: 0;bottom: 0;left: 50%;z-index: 0;}#sk-container-id-3 div.sk-serial {display: flex;flex-direction: column;align-items: center;background-color: white;padding-right: 0.2em;padding-left: 0.2em;position: relative;}#sk-container-id-3 div.sk-item {position: relative;z-index: 1;}#sk-container-id-3 div.sk-parallel {display: flex;align-items: stretch;justify-content: center;background-color: white;position: relative;}#sk-container-id-3 div.sk-item::before, #sk-container-id-3 div.sk-parallel-item::before {content: \"\";position: absolute;border-left: 1px solid gray;box-sizing: border-box;top: 0;bottom: 0;left: 50%;z-index: -1;}#sk-container-id-3 div.sk-parallel-item {display: flex;flex-direction: column;z-index: 1;position: relative;background-color: white;}#sk-container-id-3 div.sk-parallel-item:first-child::after {align-self: flex-end;width: 50%;}#sk-container-id-3 div.sk-parallel-item:last-child::after {align-self: flex-start;width: 50%;}#sk-container-id-3 div.sk-parallel-item:only-child::after {width: 0;}#sk-container-id-3 div.sk-dashed-wrapped {border: 1px dashed gray;margin: 0 0.4em 0.5em 0.4em;box-sizing: border-box;padding-bottom: 0.4em;background-color: white;}#sk-container-id-3 div.sk-label label {font-family: monospace;font-weight: bold;display: inline-block;line-height: 1.2em;}#sk-container-id-3 div.sk-label-container {text-align: center;}#sk-container-id-3 div.sk-container {/* jupyter's `normalize.less` sets `[hidden] { display: none; }` but bootstrap.min.css set `[hidden] { display: none !important; }` so we also need the `!important` here to be able to override the default hidden behavior on the sphinx rendered scikit-learn.org. See: https://github.com/scikit-learn/scikit-learn/issues/21755 */display: inline-block !important;position: relative;}#sk-container-id-3 div.sk-text-repr-fallback {display: none;}</style><div id=\"sk-container-id-3\" class=\"sk-top-container\"><div class=\"sk-text-repr-fallback\"><pre>MultinomialNB()</pre><b>In a Jupyter environment, please rerun this cell to show the HTML representation or trust the notebook. <br />On GitHub, the HTML representation is unable to render, please try loading this page with nbviewer.org.</b></div><div class=\"sk-container\" hidden><div class=\"sk-item\"><div class=\"sk-estimator sk-toggleable\"><input class=\"sk-toggleable__control sk-hidden--visually\" id=\"sk-estimator-id-3\" type=\"checkbox\" checked><label for=\"sk-estimator-id-3\" class=\"sk-toggleable__label sk-toggleable__label-arrow\">MultinomialNB</label><div class=\"sk-toggleable__content\"><pre>MultinomialNB()</pre></div></div></div></div></div>"
      ],
      "text/plain": [
       "MultinomialNB()"
      ]
     },
     "execution_count": 43,
     "metadata": {},
     "output_type": "execute_result"
    }
   ],
   "source": [
    "NBC_MU.fit(X_train_scaled, y_train)"
   ]
  },
  {
   "cell_type": "code",
   "execution_count": 44,
   "id": "d06003e5",
   "metadata": {},
   "outputs": [],
   "source": [
    "accuracy=NBC_MU.score(X_test_scaled, y_test)"
   ]
  },
  {
   "cell_type": "code",
   "execution_count": 45,
   "id": "f0a22b01",
   "metadata": {},
   "outputs": [
    {
     "data": {
      "text/plain": [
       "0.53"
      ]
     },
     "execution_count": 45,
     "metadata": {},
     "output_type": "execute_result"
    }
   ],
   "source": [
    "NBC_MU.score (X_test,y_test)"
   ]
  },
  {
   "cell_type": "code",
   "execution_count": 46,
   "id": "39e0844a",
   "metadata": {},
   "outputs": [],
   "source": [
    "y_pre=NBC_gu.predict(X_test)"
   ]
  },
  {
   "cell_type": "code",
   "execution_count": 47,
   "id": "2c63fb81",
   "metadata": {},
   "outputs": [
    {
     "data": {
      "text/plain": [
       "array([1, 3, 0, 1, 3, 1, 2, 2, 3, 1, 0, 2, 3, 3, 1, 3, 1, 1, 1, 3, 0, 0,\n",
       "       1, 0, 1, 3, 3, 3, 0, 1, 0, 1, 0, 0, 2, 1, 0, 3, 0, 1, 3, 0, 3, 2,\n",
       "       3, 0, 0, 2, 3, 1, 2, 3, 1, 3, 2, 3, 1, 0, 2, 1, 2, 3, 3, 1, 0, 2,\n",
       "       0, 0, 0, 3, 3, 2, 2, 1, 0, 1, 1, 2, 3, 3, 2, 2, 0, 3, 2, 2, 3, 2,\n",
       "       0, 2, 1, 3, 3, 0, 0, 0, 0, 1, 1, 1, 3, 2, 1, 2, 2, 3, 2, 0, 0, 2,\n",
       "       1, 2, 3, 0, 2, 3, 3, 0, 0, 2, 0, 0, 0, 1, 0, 1, 1, 0, 2, 0, 0, 0,\n",
       "       2, 1, 0, 3, 1, 0, 1, 2, 1, 2, 1, 0, 1, 2, 3, 3, 3, 2, 1, 2, 0, 0,\n",
       "       1, 0, 2, 3, 1, 3, 3, 3, 0, 2, 3, 2, 0, 0, 3, 1, 2, 0, 2, 3, 0, 2,\n",
       "       1, 0, 0, 2, 2, 3, 2, 1, 0, 3, 2, 3, 3, 1, 1, 0, 2, 1, 2, 2, 0, 2,\n",
       "       0, 3], dtype=int64)"
      ]
     },
     "execution_count": 47,
     "metadata": {},
     "output_type": "execute_result"
    }
   ],
   "source": [
    "y_pre"
   ]
  },
  {
   "cell_type": "code",
   "execution_count": 48,
   "id": "1646aaf5",
   "metadata": {},
   "outputs": [],
   "source": [
    "from sklearn.metrics import confusion_matrix,classification_report,accuracy_score"
   ]
  },
  {
   "cell_type": "code",
   "execution_count": 49,
   "id": "0ba9b98f",
   "metadata": {},
   "outputs": [
    {
     "data": {
      "text/plain": [
       "array([[49,  7,  0,  0],\n",
       "       [ 4, 38,  4,  0],\n",
       "       [ 0,  4, 39,  6],\n",
       "       [ 0,  0,  4, 45]], dtype=int64)"
      ]
     },
     "execution_count": 49,
     "metadata": {},
     "output_type": "execute_result"
    }
   ],
   "source": [
    "confusion_matrix(y_pre,y_test)"
   ]
  },
  {
   "cell_type": "code",
   "execution_count": 50,
   "id": "dba13cd0",
   "metadata": {},
   "outputs": [
    {
     "data": {
      "text/plain": [
       "0.855"
      ]
     },
     "execution_count": 50,
     "metadata": {},
     "output_type": "execute_result"
    }
   ],
   "source": [
    "accuracy_score(y_pre,y_test)"
   ]
  },
  {
   "cell_type": "code",
   "execution_count": 51,
   "id": "4388105a",
   "metadata": {},
   "outputs": [
    {
     "data": {
      "text/plain": [
       "'              precision    recall  f1-score   support\\n\\n           0       0.92      0.88      0.90        56\\n           1       0.78      0.83      0.80        46\\n           2       0.83      0.80      0.81        49\\n           3       0.88      0.92      0.90        49\\n\\n    accuracy                           0.85       200\\n   macro avg       0.85      0.85      0.85       200\\nweighted avg       0.86      0.85      0.86       200\\n'"
      ]
     },
     "execution_count": 51,
     "metadata": {},
     "output_type": "execute_result"
    }
   ],
   "source": [
    "classification_report(y_pre,y_test)"
   ]
  },
  {
   "cell_type": "markdown",
   "id": "25400e0f",
   "metadata": {},
   "source": [
    "# Bernoulli"
   ]
  },
  {
   "cell_type": "code",
   "execution_count": 52,
   "id": "7ddcc03b",
   "metadata": {},
   "outputs": [],
   "source": [
    "from sklearn.naive_bayes import BernoulliNB"
   ]
  },
  {
   "cell_type": "code",
   "execution_count": 53,
   "id": "64d6b4f6",
   "metadata": {},
   "outputs": [
    {
     "data": {
      "text/plain": [
       "0.515"
      ]
     },
     "execution_count": 53,
     "metadata": {},
     "output_type": "execute_result"
    }
   ],
   "source": [
    "NBC_BU=BernoulliNB()\n",
    "NBC_BU.fit(X_train,y_train)\n",
    "NBC_BU.score(X_test,y_test)"
   ]
  },
  {
   "cell_type": "code",
   "execution_count": 54,
   "id": "1e509b2d",
   "metadata": {},
   "outputs": [],
   "source": [
    "y_pre=NBC_gu.predict(X_test)"
   ]
  },
  {
   "cell_type": "code",
   "execution_count": 55,
   "id": "71e7d489",
   "metadata": {},
   "outputs": [
    {
     "data": {
      "text/plain": [
       "array([1, 3, 0, 1, 3, 1, 2, 2, 3, 1, 0, 2, 3, 3, 1, 3, 1, 1, 1, 3, 0, 0,\n",
       "       1, 0, 1, 3, 3, 3, 0, 1, 0, 1, 0, 0, 2, 1, 0, 3, 0, 1, 3, 0, 3, 2,\n",
       "       3, 0, 0, 2, 3, 1, 2, 3, 1, 3, 2, 3, 1, 0, 2, 1, 2, 3, 3, 1, 0, 2,\n",
       "       0, 0, 0, 3, 3, 2, 2, 1, 0, 1, 1, 2, 3, 3, 2, 2, 0, 3, 2, 2, 3, 2,\n",
       "       0, 2, 1, 3, 3, 0, 0, 0, 0, 1, 1, 1, 3, 2, 1, 2, 2, 3, 2, 0, 0, 2,\n",
       "       1, 2, 3, 0, 2, 3, 3, 0, 0, 2, 0, 0, 0, 1, 0, 1, 1, 0, 2, 0, 0, 0,\n",
       "       2, 1, 0, 3, 1, 0, 1, 2, 1, 2, 1, 0, 1, 2, 3, 3, 3, 2, 1, 2, 0, 0,\n",
       "       1, 0, 2, 3, 1, 3, 3, 3, 0, 2, 3, 2, 0, 0, 3, 1, 2, 0, 2, 3, 0, 2,\n",
       "       1, 0, 0, 2, 2, 3, 2, 1, 0, 3, 2, 3, 3, 1, 1, 0, 2, 1, 2, 2, 0, 2,\n",
       "       0, 3], dtype=int64)"
      ]
     },
     "execution_count": 55,
     "metadata": {},
     "output_type": "execute_result"
    }
   ],
   "source": [
    "y_pre"
   ]
  },
  {
   "cell_type": "code",
   "execution_count": 56,
   "id": "6260abd5",
   "metadata": {},
   "outputs": [],
   "source": [
    "from sklearn.metrics import confusion_matrix,classification_report,accuracy_score"
   ]
  },
  {
   "cell_type": "code",
   "execution_count": 57,
   "id": "dd1d37ac",
   "metadata": {},
   "outputs": [
    {
     "data": {
      "text/plain": [
       "array([[49,  7,  0,  0],\n",
       "       [ 4, 38,  4,  0],\n",
       "       [ 0,  4, 39,  6],\n",
       "       [ 0,  0,  4, 45]], dtype=int64)"
      ]
     },
     "execution_count": 57,
     "metadata": {},
     "output_type": "execute_result"
    }
   ],
   "source": [
    "confusion_matrix(y_pre,y_test)"
   ]
  },
  {
   "cell_type": "code",
   "execution_count": 58,
   "id": "706b3f0e",
   "metadata": {},
   "outputs": [
    {
     "data": {
      "text/plain": [
       "0.855"
      ]
     },
     "execution_count": 58,
     "metadata": {},
     "output_type": "execute_result"
    }
   ],
   "source": [
    "accuracy_score(y_pre,y_test)"
   ]
  },
  {
   "cell_type": "code",
   "execution_count": 59,
   "id": "67e29c96",
   "metadata": {},
   "outputs": [
    {
     "data": {
      "text/plain": [
       "'              precision    recall  f1-score   support\\n\\n           0       0.92      0.88      0.90        56\\n           1       0.78      0.83      0.80        46\\n           2       0.83      0.80      0.81        49\\n           3       0.88      0.92      0.90        49\\n\\n    accuracy                           0.85       200\\n   macro avg       0.85      0.85      0.85       200\\nweighted avg       0.86      0.85      0.86       200\\n'"
      ]
     },
     "execution_count": 59,
     "metadata": {},
     "output_type": "execute_result"
    }
   ],
   "source": [
    "classification_report(y_pre,y_test)"
   ]
  },
  {
   "cell_type": "markdown",
   "id": "cc6e1e02",
   "metadata": {},
   "source": [
    "# k-Nearest Neighbors"
   ]
  },
  {
   "cell_type": "code",
   "execution_count": 60,
   "id": "fc2c290e",
   "metadata": {},
   "outputs": [],
   "source": [
    "from sklearn.neighbors import KNeighborsClassifier"
   ]
  },
  {
   "cell_type": "code",
   "execution_count": 61,
   "id": "4afac3f6",
   "metadata": {},
   "outputs": [],
   "source": [
    "knn=KNeighborsClassifier(n_neighbors=80)"
   ]
  },
  {
   "cell_type": "code",
   "execution_count": 62,
   "id": "922e17a5",
   "metadata": {},
   "outputs": [
    {
     "data": {
      "text/html": [
       "<style>#sk-container-id-4 {color: black;}#sk-container-id-4 pre{padding: 0;}#sk-container-id-4 div.sk-toggleable {background-color: white;}#sk-container-id-4 label.sk-toggleable__label {cursor: pointer;display: block;width: 100%;margin-bottom: 0;padding: 0.3em;box-sizing: border-box;text-align: center;}#sk-container-id-4 label.sk-toggleable__label-arrow:before {content: \"▸\";float: left;margin-right: 0.25em;color: #696969;}#sk-container-id-4 label.sk-toggleable__label-arrow:hover:before {color: black;}#sk-container-id-4 div.sk-estimator:hover label.sk-toggleable__label-arrow:before {color: black;}#sk-container-id-4 div.sk-toggleable__content {max-height: 0;max-width: 0;overflow: hidden;text-align: left;background-color: #f0f8ff;}#sk-container-id-4 div.sk-toggleable__content pre {margin: 0.2em;color: black;border-radius: 0.25em;background-color: #f0f8ff;}#sk-container-id-4 input.sk-toggleable__control:checked~div.sk-toggleable__content {max-height: 200px;max-width: 100%;overflow: auto;}#sk-container-id-4 input.sk-toggleable__control:checked~label.sk-toggleable__label-arrow:before {content: \"▾\";}#sk-container-id-4 div.sk-estimator input.sk-toggleable__control:checked~label.sk-toggleable__label {background-color: #d4ebff;}#sk-container-id-4 div.sk-label input.sk-toggleable__control:checked~label.sk-toggleable__label {background-color: #d4ebff;}#sk-container-id-4 input.sk-hidden--visually {border: 0;clip: rect(1px 1px 1px 1px);clip: rect(1px, 1px, 1px, 1px);height: 1px;margin: -1px;overflow: hidden;padding: 0;position: absolute;width: 1px;}#sk-container-id-4 div.sk-estimator {font-family: monospace;background-color: #f0f8ff;border: 1px dotted black;border-radius: 0.25em;box-sizing: border-box;margin-bottom: 0.5em;}#sk-container-id-4 div.sk-estimator:hover {background-color: #d4ebff;}#sk-container-id-4 div.sk-parallel-item::after {content: \"\";width: 100%;border-bottom: 1px solid gray;flex-grow: 1;}#sk-container-id-4 div.sk-label:hover label.sk-toggleable__label {background-color: #d4ebff;}#sk-container-id-4 div.sk-serial::before {content: \"\";position: absolute;border-left: 1px solid gray;box-sizing: border-box;top: 0;bottom: 0;left: 50%;z-index: 0;}#sk-container-id-4 div.sk-serial {display: flex;flex-direction: column;align-items: center;background-color: white;padding-right: 0.2em;padding-left: 0.2em;position: relative;}#sk-container-id-4 div.sk-item {position: relative;z-index: 1;}#sk-container-id-4 div.sk-parallel {display: flex;align-items: stretch;justify-content: center;background-color: white;position: relative;}#sk-container-id-4 div.sk-item::before, #sk-container-id-4 div.sk-parallel-item::before {content: \"\";position: absolute;border-left: 1px solid gray;box-sizing: border-box;top: 0;bottom: 0;left: 50%;z-index: -1;}#sk-container-id-4 div.sk-parallel-item {display: flex;flex-direction: column;z-index: 1;position: relative;background-color: white;}#sk-container-id-4 div.sk-parallel-item:first-child::after {align-self: flex-end;width: 50%;}#sk-container-id-4 div.sk-parallel-item:last-child::after {align-self: flex-start;width: 50%;}#sk-container-id-4 div.sk-parallel-item:only-child::after {width: 0;}#sk-container-id-4 div.sk-dashed-wrapped {border: 1px dashed gray;margin: 0 0.4em 0.5em 0.4em;box-sizing: border-box;padding-bottom: 0.4em;background-color: white;}#sk-container-id-4 div.sk-label label {font-family: monospace;font-weight: bold;display: inline-block;line-height: 1.2em;}#sk-container-id-4 div.sk-label-container {text-align: center;}#sk-container-id-4 div.sk-container {/* jupyter's `normalize.less` sets `[hidden] { display: none; }` but bootstrap.min.css set `[hidden] { display: none !important; }` so we also need the `!important` here to be able to override the default hidden behavior on the sphinx rendered scikit-learn.org. See: https://github.com/scikit-learn/scikit-learn/issues/21755 */display: inline-block !important;position: relative;}#sk-container-id-4 div.sk-text-repr-fallback {display: none;}</style><div id=\"sk-container-id-4\" class=\"sk-top-container\"><div class=\"sk-text-repr-fallback\"><pre>KNeighborsClassifier(n_neighbors=80)</pre><b>In a Jupyter environment, please rerun this cell to show the HTML representation or trust the notebook. <br />On GitHub, the HTML representation is unable to render, please try loading this page with nbviewer.org.</b></div><div class=\"sk-container\" hidden><div class=\"sk-item\"><div class=\"sk-estimator sk-toggleable\"><input class=\"sk-toggleable__control sk-hidden--visually\" id=\"sk-estimator-id-4\" type=\"checkbox\" checked><label for=\"sk-estimator-id-4\" class=\"sk-toggleable__label sk-toggleable__label-arrow\">KNeighborsClassifier</label><div class=\"sk-toggleable__content\"><pre>KNeighborsClassifier(n_neighbors=80)</pre></div></div></div></div></div>"
      ],
      "text/plain": [
       "KNeighborsClassifier(n_neighbors=80)"
      ]
     },
     "execution_count": 62,
     "metadata": {},
     "output_type": "execute_result"
    }
   ],
   "source": [
    "knn.fit(X_train,y_train)"
   ]
  },
  {
   "cell_type": "code",
   "execution_count": 63,
   "id": "9c5bd1a2",
   "metadata": {},
   "outputs": [
    {
     "data": {
      "text/plain": [
       "0.645"
      ]
     },
     "execution_count": 63,
     "metadata": {},
     "output_type": "execute_result"
    }
   ],
   "source": [
    "knn.score(X_test,y_test)"
   ]
  },
  {
   "cell_type": "markdown",
   "id": "5f1707d5",
   "metadata": {},
   "source": [
    "# Elbow"
   ]
  },
  {
   "cell_type": "code",
   "execution_count": 64,
   "id": "abf83d25",
   "metadata": {},
   "outputs": [],
   "source": [
    "from sklearn.model_selection import cross_val_score\n",
    "accuracy_rate=[]\n",
    "for i in range(1,40):\n",
    "    knn=KNeighborsClassifier(n_neighbors=i)\n",
    "    score=cross_val_score(knn,X,y,cv=10)\n",
    "    accuracy_rate.append(score.mean())"
   ]
  },
  {
   "cell_type": "code",
   "execution_count": 65,
   "id": "70cc81fc",
   "metadata": {},
   "outputs": [
    {
     "data": {
      "text/plain": [
       "[<matplotlib.lines.Line2D at 0x1fe47e32410>]"
      ]
     },
     "execution_count": 65,
     "metadata": {},
     "output_type": "execute_result"
    },
    {
     "data": {
      "image/png": "[encoded data removed]",
      "text/plain": [
       "<Figure size 1000x600 with 1 Axes>"
      ]
     },
     "metadata": {},
     "output_type": "display_data"
    }
   ],
   "source": [
    "import matplotlib.pyplot as plt\n",
    "plt.figure(figsize=(10,6))\n",
    "plt.plot(range(1,40),accuracy_rate,color='red',linestyle='dashed',marker='*',markerfacecolor='green')"
   ]
  },
  {
   "cell_type": "code",
   "execution_count": 66,
   "id": "ebdc3972",
   "metadata": {},
   "outputs": [],
   "source": [
    "y_pre=NBC_gu.predict(X_test)"
   ]
  },
  {
   "cell_type": "code",
   "execution_count": 67,
   "id": "2ed907bd",
   "metadata": {},
   "outputs": [
    {
     "data": {
      "text/plain": [
       "array([1, 3, 0, 1, 3, 1, 2, 2, 3, 1, 0, 2, 3, 3, 1, 3, 1, 1, 1, 3, 0, 0,\n",
       "       1, 0, 1, 3, 3, 3, 0, 1, 0, 1, 0, 0, 2, 1, 0, 3, 0, 1, 3, 0, 3, 2,\n",
       "       3, 0, 0, 2, 3, 1, 2, 3, 1, 3, 2, 3, 1, 0, 2, 1, 2, 3, 3, 1, 0, 2,\n",
       "       0, 0, 0, 3, 3, 2, 2, 1, 0, 1, 1, 2, 3, 3, 2, 2, 0, 3, 2, 2, 3, 2,\n",
       "       0, 2, 1, 3, 3, 0, 0, 0, 0, 1, 1, 1, 3, 2, 1, 2, 2, 3, 2, 0, 0, 2,\n",
       "       1, 2, 3, 0, 2, 3, 3, 0, 0, 2, 0, 0, 0, 1, 0, 1, 1, 0, 2, 0, 0, 0,\n",
       "       2, 1, 0, 3, 1, 0, 1, 2, 1, 2, 1, 0, 1, 2, 3, 3, 3, 2, 1, 2, 0, 0,\n",
       "       1, 0, 2, 3, 1, 3, 3, 3, 0, 2, 3, 2, 0, 0, 3, 1, 2, 0, 2, 3, 0, 2,\n",
       "       1, 0, 0, 2, 2, 3, 2, 1, 0, 3, 2, 3, 3, 1, 1, 0, 2, 1, 2, 2, 0, 2,\n",
       "       0, 3], dtype=int64)"
      ]
     },
     "execution_count": 67,
     "metadata": {},
     "output_type": "execute_result"
    }
   ],
   "source": [
    "y_pre"
   ]
  },
  {
   "cell_type": "code",
   "execution_count": 68,
   "id": "2dd3ca6a",
   "metadata": {},
   "outputs": [],
   "source": [
    "from sklearn.metrics import confusion_matrix,classification_report,accuracy_score"
   ]
  },
  {
   "cell_type": "code",
   "execution_count": 69,
   "id": "1abb7c85",
   "metadata": {},
   "outputs": [
    {
     "data": {
      "text/plain": [
       "array([[49,  7,  0,  0],\n",
       "       [ 4, 38,  4,  0],\n",
       "       [ 0,  4, 39,  6],\n",
       "       [ 0,  0,  4, 45]], dtype=int64)"
      ]
     },
     "execution_count": 69,
     "metadata": {},
     "output_type": "execute_result"
    }
   ],
   "source": [
    "confusion_matrix(y_pre,y_test)"
   ]
  },
  {
   "cell_type": "code",
   "execution_count": 70,
   "id": "1458f3b4",
   "metadata": {},
   "outputs": [
    {
     "data": {
      "text/plain": [
       "0.855"
      ]
     },
     "execution_count": 70,
     "metadata": {},
     "output_type": "execute_result"
    }
   ],
   "source": [
    "accuracy_score(y_pre,y_test)"
   ]
  },
  {
   "cell_type": "code",
   "execution_count": 71,
   "id": "d23abef8",
   "metadata": {},
   "outputs": [
    {
     "data": {
      "text/plain": [
       "'              precision    recall  f1-score   support\\n\\n           0       0.92      0.88      0.90        56\\n           1       0.78      0.83      0.80        46\\n           2       0.83      0.80      0.81        49\\n           3       0.88      0.92      0.90        49\\n\\n    accuracy                           0.85       200\\n   macro avg       0.85      0.85      0.85       200\\nweighted avg       0.86      0.85      0.86       200\\n'"
      ]
     },
     "execution_count": 71,
     "metadata": {},
     "output_type": "execute_result"
    }
   ],
   "source": [
    "classification_report(y_pre,y_test)"
   ]
  },
  {
   "cell_type": "markdown",
   "id": "e123bf10",
   "metadata": {},
   "source": [
    "# Logistic Regression"
   ]
  },
  {
   "cell_type": "code",
   "execution_count": 72,
   "id": "1ca2f3f7",
   "metadata": {},
   "outputs": [],
   "source": [
    "from sklearn.linear_model import LogisticRegression  "
   ]
  },
  {
   "cell_type": "code",
   "execution_count": 73,
   "id": "d2e5fdb4",
   "metadata": {},
   "outputs": [
    {
     "data": {
      "text/html": [
       "<style>#sk-container-id-5 {color: black;}#sk-container-id-5 pre{padding: 0;}#sk-container-id-5 div.sk-toggleable {background-color: white;}#sk-container-id-5 label.sk-toggleable__label {cursor: pointer;display: block;width: 100%;margin-bottom: 0;padding: 0.3em;box-sizing: border-box;text-align: center;}#sk-container-id-5 label.sk-toggleable__label-arrow:before {content: \"▸\";float: left;margin-right: 0.25em;color: #696969;}#sk-container-id-5 label.sk-toggleable__label-arrow:hover:before {color: black;}#sk-container-id-5 div.sk-estimator:hover label.sk-toggleable__label-arrow:before {color: black;}#sk-container-id-5 div.sk-toggleable__content {max-height: 0;max-width: 0;overflow: hidden;text-align: left;background-color: #f0f8ff;}#sk-container-id-5 div.sk-toggleable__content pre {margin: 0.2em;color: black;border-radius: 0.25em;background-color: #f0f8ff;}#sk-container-id-5 input.sk-toggleable__control:checked~div.sk-toggleable__content {max-height: 200px;max-width: 100%;overflow: auto;}#sk-container-id-5 input.sk-toggleable__control:checked~label.sk-toggleable__label-arrow:before {content: \"▾\";}#sk-container-id-5 div.sk-estimator input.sk-toggleable__control:checked~label.sk-toggleable__label {background-color: #d4ebff;}#sk-container-id-5 div.sk-label input.sk-toggleable__control:checked~label.sk-toggleable__label {background-color: #d4ebff;}#sk-container-id-5 input.sk-hidden--visually {border: 0;clip: rect(1px 1px 1px 1px);clip: rect(1px, 1px, 1px, 1px);height: 1px;margin: -1px;overflow: hidden;padding: 0;position: absolute;width: 1px;}#sk-container-id-5 div.sk-estimator {font-family: monospace;background-color: #f0f8ff;border: 1px dotted black;border-radius: 0.25em;box-sizing: border-box;margin-bottom: 0.5em;}#sk-container-id-5 div.sk-estimator:hover {background-color: #d4ebff;}#sk-container-id-5 div.sk-parallel-item::after {content: \"\";width: 100%;border-bottom: 1px solid gray;flex-grow: 1;}#sk-container-id-5 div.sk-label:hover label.sk-toggleable__label {background-color: #d4ebff;}#sk-container-id-5 div.sk-serial::before {content: \"\";position: absolute;border-left: 1px solid gray;box-sizing: border-box;top: 0;bottom: 0;left: 50%;z-index: 0;}#sk-container-id-5 div.sk-serial {display: flex;flex-direction: column;align-items: center;background-color: white;padding-right: 0.2em;padding-left: 0.2em;position: relative;}#sk-container-id-5 div.sk-item {position: relative;z-index: 1;}#sk-container-id-5 div.sk-parallel {display: flex;align-items: stretch;justify-content: center;background-color: white;position: relative;}#sk-container-id-5 div.sk-item::before, #sk-container-id-5 div.sk-parallel-item::before {content: \"\";position: absolute;border-left: 1px solid gray;box-sizing: border-box;top: 0;bottom: 0;left: 50%;z-index: -1;}#sk-container-id-5 div.sk-parallel-item {display: flex;flex-direction: column;z-index: 1;position: relative;background-color: white;}#sk-container-id-5 div.sk-parallel-item:first-child::after {align-self: flex-end;width: 50%;}#sk-container-id-5 div.sk-parallel-item:last-child::after {align-self: flex-start;width: 50%;}#sk-container-id-5 div.sk-parallel-item:only-child::after {width: 0;}#sk-container-id-5 div.sk-dashed-wrapped {border: 1px dashed gray;margin: 0 0.4em 0.5em 0.4em;box-sizing: border-box;padding-bottom: 0.4em;background-color: white;}#sk-container-id-5 div.sk-label label {font-family: monospace;font-weight: bold;display: inline-block;line-height: 1.2em;}#sk-container-id-5 div.sk-label-container {text-align: center;}#sk-container-id-5 div.sk-container {/* jupyter's `normalize.less` sets `[hidden] { display: none; }` but bootstrap.min.css set `[hidden] { display: none !important; }` so we also need the `!important` here to be able to override the default hidden behavior on the sphinx rendered scikit-learn.org. See: https://github.com/scikit-learn/scikit-learn/issues/21755 */display: inline-block !important;position: relative;}#sk-container-id-5 div.sk-text-repr-fallback {display: none;}</style><div id=\"sk-container-id-5\" class=\"sk-top-container\"><div class=\"sk-text-repr-fallback\"><pre>LogisticRegression()</pre><b>In a Jupyter environment, please rerun this cell to show the HTML representation or trust the notebook. <br />On GitHub, the HTML representation is unable to render, please try loading this page with nbviewer.org.</b></div><div class=\"sk-container\" hidden><div class=\"sk-item\"><div class=\"sk-estimator sk-toggleable\"><input class=\"sk-toggleable__control sk-hidden--visually\" id=\"sk-estimator-id-5\" type=\"checkbox\" checked><label for=\"sk-estimator-id-5\" class=\"sk-toggleable__label sk-toggleable__label-arrow\">LogisticRegression</label><div class=\"sk-toggleable__content\"><pre>LogisticRegression()</pre></div></div></div></div></div>"
      ],
      "text/plain": [
       "LogisticRegression()"
      ]
     },
     "execution_count": 73,
     "metadata": {},
     "output_type": "execute_result"
    }
   ],
   "source": [
    "LR=LogisticRegression()\n",
    "LR.fit(X_train,y_train)"
   ]
  },
  {
   "cell_type": "code",
   "execution_count": 74,
   "id": "67d55253",
   "metadata": {},
   "outputs": [
    {
     "data": {
      "text/plain": [
       "array([2, 3, 0, 1, 3, 1, 2, 2, 3, 1, 0, 2, 3, 3, 1, 3, 1, 1, 1, 3, 0, 0,\n",
       "       1, 0, 1, 3, 2, 3, 0, 1, 0, 1, 0, 0, 2, 1, 0, 3, 0, 1, 3, 0, 3, 2,\n",
       "       3, 1, 0, 2, 3, 1, 2, 3, 1, 3, 3, 3, 2, 0, 2, 1, 2, 3, 3, 0, 0, 2,\n",
       "       0, 0, 0, 3, 3, 2, 2, 1, 0, 1, 1, 2, 3, 3, 2, 2, 0, 3, 3, 2, 3, 2,\n",
       "       0, 2, 1, 3, 3, 0, 0, 0, 0, 1, 1, 1, 3, 2, 1, 2, 1, 3, 3, 0, 0, 2,\n",
       "       1, 2, 3, 0, 2, 3, 3, 0, 0, 1, 1, 0, 1, 1, 0, 1, 1, 0, 2, 0, 0, 0,\n",
       "       1, 1, 0, 3, 1, 0, 1, 2, 1, 2, 0, 1, 1, 1, 3, 3, 3, 2, 1, 2, 0, 0,\n",
       "       1, 0, 2, 3, 1, 3, 2, 3, 0, 2, 3, 2, 0, 0, 2, 1, 2, 0, 2, 3, 0, 2,\n",
       "       1, 0, 1, 2, 2, 3, 2, 1, 0, 3, 2, 3, 3, 2, 1, 0, 2, 1, 2, 3, 0, 2,\n",
       "       1, 3], dtype=int64)"
      ]
     },
     "execution_count": 74,
     "metadata": {},
     "output_type": "execute_result"
    }
   ],
   "source": [
    "y_predict = LR.predict(X_test)\n",
    "y_predict"
   ]
  },
  {
   "cell_type": "code",
   "execution_count": 75,
   "id": "0af8aba1",
   "metadata": {},
   "outputs": [
    {
     "data": {
      "text/plain": [
       "0.8283333333333334"
      ]
     },
     "execution_count": 75,
     "metadata": {},
     "output_type": "execute_result"
    }
   ],
   "source": [
    "LR.score(X_train,y_train)"
   ]
  },
  {
   "cell_type": "code",
   "execution_count": 76,
   "id": "b678c818",
   "metadata": {},
   "outputs": [],
   "source": [
    "y_pre=LR.predict(X_test)"
   ]
  },
  {
   "cell_type": "code",
   "execution_count": 77,
   "id": "9991e84b",
   "metadata": {},
   "outputs": [
    {
     "data": {
      "text/plain": [
       "1.0"
      ]
     },
     "execution_count": 77,
     "metadata": {},
     "output_type": "execute_result"
    }
   ],
   "source": [
    "LR.score(X_test,y_pre)"
   ]
  },
  {
   "cell_type": "code",
   "execution_count": 78,
   "id": "d414d114",
   "metadata": {},
   "outputs": [],
   "source": [
    "from sklearn.metrics import accuracy_score,classification_report"
   ]
  },
  {
   "cell_type": "code",
   "execution_count": 79,
   "id": "c7c35c24",
   "metadata": {},
   "outputs": [
    {
     "name": "stdout",
     "output_type": "stream",
     "text": [
      "0.855\n"
     ]
    }
   ],
   "source": [
    "s=accuracy_score(y_pre,y_test)\n",
    "print(s)"
   ]
  },
  {
   "cell_type": "code",
   "execution_count": 80,
   "id": "42753b17",
   "metadata": {},
   "outputs": [
    {
     "name": "stdout",
     "output_type": "stream",
     "text": [
      "              precision    recall  f1-score   support\n",
      "\n",
      "           0       0.92      0.94      0.93        52\n",
      "           1       0.86      0.82      0.84        51\n",
      "           2       0.77      0.77      0.77        47\n",
      "           3       0.86      0.88      0.87        50\n",
      "\n",
      "    accuracy                           0.85       200\n",
      "   macro avg       0.85      0.85      0.85       200\n",
      "weighted avg       0.85      0.85      0.85       200\n",
      "\n"
     ]
    }
   ],
   "source": [
    "print(classification_report(y_pre,y_test))"
   ]
  },
  {
   "cell_type": "markdown",
   "id": "d8275be5",
   "metadata": {},
   "source": [
    "# Random Forest"
   ]
  },
  {
   "cell_type": "code",
   "execution_count": 81,
   "id": "2f7b0724",
   "metadata": {},
   "outputs": [],
   "source": [
    "from sklearn.ensemble import RandomForestClassifier"
   ]
  },
  {
   "cell_type": "code",
   "execution_count": 82,
   "id": "26e02d7c",
   "metadata": {},
   "outputs": [],
   "source": [
    "RF=RandomForestClassifier()"
   ]
  },
  {
   "cell_type": "code",
   "execution_count": 150,
   "id": "f9e91fec",
   "metadata": {},
   "outputs": [],
   "source": [
    "RF = RandomForestClassifier(n_estimators=300, max_depth=None, random_state=50)"
   ]
  },
  {
   "cell_type": "code",
   "execution_count": 151,
   "id": "2a65cc3f",
   "metadata": {},
   "outputs": [
    {
     "data": {
      "text/html": [
       "<style>#sk-container-id-15 {color: black;}#sk-container-id-15 pre{padding: 0;}#sk-container-id-15 div.sk-toggleable {background-color: white;}#sk-container-id-15 label.sk-toggleable__label {cursor: pointer;display: block;width: 100%;margin-bottom: 0;padding: 0.3em;box-sizing: border-box;text-align: center;}#sk-container-id-15 label.sk-toggleable__label-arrow:before {content: \"▸\";float: left;margin-right: 0.25em;color: #696969;}#sk-container-id-15 label.sk-toggleable__label-arrow:hover:before {color: black;}#sk-container-id-15 div.sk-estimator:hover label.sk-toggleable__label-arrow:before {color: black;}#sk-container-id-15 div.sk-toggleable__content {max-height: 0;max-width: 0;overflow: hidden;text-align: left;background-color: #f0f8ff;}#sk-container-id-15 div.sk-toggleable__content pre {margin: 0.2em;color: black;border-radius: 0.25em;background-color: #f0f8ff;}#sk-container-id-15 input.sk-toggleable__control:checked~div.sk-toggleable__content {max-height: 200px;max-width: 100%;overflow: auto;}#sk-container-id-15 input.sk-toggleable__control:checked~label.sk-toggleable__label-arrow:before {content: \"▾\";}#sk-container-id-15 div.sk-estimator input.sk-toggleable__control:checked~label.sk-toggleable__label {background-color: #d4ebff;}#sk-container-id-15 div.sk-label input.sk-toggleable__control:checked~label.sk-toggleable__label {background-color: #d4ebff;}#sk-container-id-15 input.sk-hidden--visually {border: 0;clip: rect(1px 1px 1px 1px);clip: rect(1px, 1px, 1px, 1px);height: 1px;margin: -1px;overflow: hidden;padding: 0;position: absolute;width: 1px;}#sk-container-id-15 div.sk-estimator {font-family: monospace;background-color: #f0f8ff;border: 1px dotted black;border-radius: 0.25em;box-sizing: border-box;margin-bottom: 0.5em;}#sk-container-id-15 div.sk-estimator:hover {background-color: #d4ebff;}#sk-container-id-15 div.sk-parallel-item::after {content: \"\";width: 100%;border-bottom: 1px solid gray;flex-grow: 1;}#sk-container-id-15 div.sk-label:hover label.sk-toggleable__label {background-color: #d4ebff;}#sk-container-id-15 div.sk-serial::before {content: \"\";position: absolute;border-left: 1px solid gray;box-sizing: border-box;top: 0;bottom: 0;left: 50%;z-index: 0;}#sk-container-id-15 div.sk-serial {display: flex;flex-direction: column;align-items: center;background-color: white;padding-right: 0.2em;padding-left: 0.2em;position: relative;}#sk-container-id-15 div.sk-item {position: relative;z-index: 1;}#sk-container-id-15 div.sk-parallel {display: flex;align-items: stretch;justify-content: center;background-color: white;position: relative;}#sk-container-id-15 div.sk-item::before, #sk-container-id-15 div.sk-parallel-item::before {content: \"\";position: absolute;border-left: 1px solid gray;box-sizing: border-box;top: 0;bottom: 0;left: 50%;z-index: -1;}#sk-container-id-15 div.sk-parallel-item {display: flex;flex-direction: column;z-index: 1;position: relative;background-color: white;}#sk-container-id-15 div.sk-parallel-item:first-child::after {align-self: flex-end;width: 50%;}#sk-container-id-15 div.sk-parallel-item:last-child::after {align-self: flex-start;width: 50%;}#sk-container-id-15 div.sk-parallel-item:only-child::after {width: 0;}#sk-container-id-15 div.sk-dashed-wrapped {border: 1px dashed gray;margin: 0 0.4em 0.5em 0.4em;box-sizing: border-box;padding-bottom: 0.4em;background-color: white;}#sk-container-id-15 div.sk-label label {font-family: monospace;font-weight: bold;display: inline-block;line-height: 1.2em;}#sk-container-id-15 div.sk-label-container {text-align: center;}#sk-container-id-15 div.sk-container {/* jupyter's `normalize.less` sets `[hidden] { display: none; }` but bootstrap.min.css set `[hidden] { display: none !important; }` so we also need the `!important` here to be able to override the default hidden behavior on the sphinx rendered scikit-learn.org. See: https://github.com/scikit-learn/scikit-learn/issues/21755 */display: inline-block !important;position: relative;}#sk-container-id-15 div.sk-text-repr-fallback {display: none;}</style><div id=\"sk-container-id-15\" class=\"sk-top-container\"><div class=\"sk-text-repr-fallback\"><pre>RandomForestClassifier(n_estimators=300, random_state=50)</pre><b>In a Jupyter environment, please rerun this cell to show the HTML representation or trust the notebook. <br />On GitHub, the HTML representation is unable to render, please try loading this page with nbviewer.org.</b></div><div class=\"sk-container\" hidden><div class=\"sk-item\"><div class=\"sk-estimator sk-toggleable\"><input class=\"sk-toggleable__control sk-hidden--visually\" id=\"sk-estimator-id-15\" type=\"checkbox\" checked><label for=\"sk-estimator-id-15\" class=\"sk-toggleable__label sk-toggleable__label-arrow\">RandomForestClassifier</label><div class=\"sk-toggleable__content\"><pre>RandomForestClassifier(n_estimators=300, random_state=50)</pre></div></div></div></div></div>"
      ],
      "text/plain": [
       "RandomForestClassifier(n_estimators=300, random_state=50)"
      ]
     },
     "execution_count": 151,
     "metadata": {},
     "output_type": "execute_result"
    }
   ],
   "source": [
    "RF.fit(X_train,y_train)"
   ]
  },
  {
   "cell_type": "code",
   "execution_count": 152,
   "id": "c6896e6d",
   "metadata": {
    "scrolled": true
   },
   "outputs": [
    {
     "data": {
      "text/plain": [
       "array([2, 3, 0, 1, 3, 1, 2, 2, 3, 1, 0, 2, 3, 3, 1, 3, 1, 1, 1, 3, 0, 0,\n",
       "       1, 0, 1, 3, 2, 3, 0, 1, 0, 1, 0, 0, 2, 1, 0, 3, 0, 1, 3, 0, 3, 2,\n",
       "       3, 0, 0, 2, 3, 1, 2, 3, 1, 3, 3, 3, 2, 0, 2, 1, 2, 3, 3, 0, 0, 2,\n",
       "       0, 0, 0, 3, 3, 2, 2, 1, 0, 1, 1, 2, 3, 3, 2, 2, 0, 3, 3, 2, 3, 2,\n",
       "       0, 2, 1, 3, 3, 0, 0, 0, 0, 1, 1, 1, 3, 2, 1, 3, 1, 3, 3, 0, 0, 2,\n",
       "       1, 2, 3, 0, 2, 3, 3, 0, 0, 1, 1, 0, 1, 1, 0, 1, 0, 0, 2, 0, 0, 0,\n",
       "       1, 1, 0, 3, 1, 0, 1, 2, 1, 2, 0, 1, 1, 2, 3, 3, 3, 2, 1, 2, 0, 0,\n",
       "       1, 0, 2, 3, 1, 2, 2, 3, 0, 2, 3, 2, 0, 0, 3, 1, 2, 0, 2, 3, 0, 2,\n",
       "       1, 0, 1, 2, 2, 3, 2, 1, 0, 3, 1, 3, 3, 1, 1, 0, 2, 1, 2, 2, 0, 2,\n",
       "       1, 3], dtype=int64)"
      ]
     },
     "execution_count": 152,
     "metadata": {},
     "output_type": "execute_result"
    }
   ],
   "source": [
    "y_predict = RF.predict(X_test)\n",
    "y_predict"
   ]
  },
  {
   "cell_type": "code",
   "execution_count": 153,
   "id": "4eeda140",
   "metadata": {},
   "outputs": [
    {
     "name": "stdout",
     "output_type": "stream",
     "text": [
      "Classification Report:\n",
      "\n",
      "              precision    recall  f1-score   support\n",
      "\n",
      "           0       0.91      0.92      0.92        53\n",
      "           1       0.82      0.84      0.83        49\n",
      "           2       0.78      0.77      0.77        47\n",
      "           3       0.88      0.86      0.87        51\n",
      "\n",
      "    accuracy                           0.85       200\n",
      "   macro avg       0.85      0.85      0.85       200\n",
      "weighted avg       0.85      0.85      0.85       200\n",
      "\n"
     ]
    }
   ],
   "source": [
    "print('Classification Report:\\n')\n",
    "print(classification_report(y_test,y_predict))"
   ]
  },
  {
   "cell_type": "code",
   "execution_count": 154,
   "id": "2c798cbb",
   "metadata": {},
   "outputs": [
    {
     "data": {
      "text/plain": [
       "0.85"
      ]
     },
     "execution_count": 154,
     "metadata": {},
     "output_type": "execute_result"
    }
   ],
   "source": [
    "from sklearn.metrics import accuracy_score\n",
    "accuracy = accuracy_score(y_test, y_predict)\n",
    "accuracy\n"
   ]
  },
  {
   "cell_type": "markdown",
   "id": "d417271e",
   "metadata": {},
   "source": [
    "# Gradient Boosting"
   ]
  },
  {
   "cell_type": "code",
   "execution_count": 88,
   "id": "98399aeb",
   "metadata": {},
   "outputs": [],
   "source": [
    "from sklearn.ensemble import GradientBoostingClassifier"
   ]
  },
  {
   "cell_type": "code",
   "execution_count": 89,
   "id": "9081801b",
   "metadata": {},
   "outputs": [],
   "source": [
    "gbc=GradientBoostingClassifier()"
   ]
  },
  {
   "cell_type": "code",
   "execution_count": 90,
   "id": "4a80e7dd",
   "metadata": {},
   "outputs": [
    {
     "data": {
      "text/html": [
       "<style>#sk-container-id-7 {color: black;}#sk-container-id-7 pre{padding: 0;}#sk-container-id-7 div.sk-toggleable {background-color: white;}#sk-container-id-7 label.sk-toggleable__label {cursor: pointer;display: block;width: 100%;margin-bottom: 0;padding: 0.3em;box-sizing: border-box;text-align: center;}#sk-container-id-7 label.sk-toggleable__label-arrow:before {content: \"▸\";float: left;margin-right: 0.25em;color: #696969;}#sk-container-id-7 label.sk-toggleable__label-arrow:hover:before {color: black;}#sk-container-id-7 div.sk-estimator:hover label.sk-toggleable__label-arrow:before {color: black;}#sk-container-id-7 div.sk-toggleable__content {max-height: 0;max-width: 0;overflow: hidden;text-align: left;background-color: #f0f8ff;}#sk-container-id-7 div.sk-toggleable__content pre {margin: 0.2em;color: black;border-radius: 0.25em;background-color: #f0f8ff;}#sk-container-id-7 input.sk-toggleable__control:checked~div.sk-toggleable__content {max-height: 200px;max-width: 100%;overflow: auto;}#sk-container-id-7 input.sk-toggleable__control:checked~label.sk-toggleable__label-arrow:before {content: \"▾\";}#sk-container-id-7 div.sk-estimator input.sk-toggleable__control:checked~label.sk-toggleable__label {background-color: #d4ebff;}#sk-container-id-7 div.sk-label input.sk-toggleable__control:checked~label.sk-toggleable__label {background-color: #d4ebff;}#sk-container-id-7 input.sk-hidden--visually {border: 0;clip: rect(1px 1px 1px 1px);clip: rect(1px, 1px, 1px, 1px);height: 1px;margin: -1px;overflow: hidden;padding: 0;position: absolute;width: 1px;}#sk-container-id-7 div.sk-estimator {font-family: monospace;background-color: #f0f8ff;border: 1px dotted black;border-radius: 0.25em;box-sizing: border-box;margin-bottom: 0.5em;}#sk-container-id-7 div.sk-estimator:hover {background-color: #d4ebff;}#sk-container-id-7 div.sk-parallel-item::after {content: \"\";width: 100%;border-bottom: 1px solid gray;flex-grow: 1;}#sk-container-id-7 div.sk-label:hover label.sk-toggleable__label {background-color: #d4ebff;}#sk-container-id-7 div.sk-serial::before {content: \"\";position: absolute;border-left: 1px solid gray;box-sizing: border-box;top: 0;bottom: 0;left: 50%;z-index: 0;}#sk-container-id-7 div.sk-serial {display: flex;flex-direction: column;align-items: center;background-color: white;padding-right: 0.2em;padding-left: 0.2em;position: relative;}#sk-container-id-7 div.sk-item {position: relative;z-index: 1;}#sk-container-id-7 div.sk-parallel {display: flex;align-items: stretch;justify-content: center;background-color: white;position: relative;}#sk-container-id-7 div.sk-item::before, #sk-container-id-7 div.sk-parallel-item::before {content: \"\";position: absolute;border-left: 1px solid gray;box-sizing: border-box;top: 0;bottom: 0;left: 50%;z-index: -1;}#sk-container-id-7 div.sk-parallel-item {display: flex;flex-direction: column;z-index: 1;position: relative;background-color: white;}#sk-container-id-7 div.sk-parallel-item:first-child::after {align-self: flex-end;width: 50%;}#sk-container-id-7 div.sk-parallel-item:last-child::after {align-self: flex-start;width: 50%;}#sk-container-id-7 div.sk-parallel-item:only-child::after {width: 0;}#sk-container-id-7 div.sk-dashed-wrapped {border: 1px dashed gray;margin: 0 0.4em 0.5em 0.4em;box-sizing: border-box;padding-bottom: 0.4em;background-color: white;}#sk-container-id-7 div.sk-label label {font-family: monospace;font-weight: bold;display: inline-block;line-height: 1.2em;}#sk-container-id-7 div.sk-label-container {text-align: center;}#sk-container-id-7 div.sk-container {/* jupyter's `normalize.less` sets `[hidden] { display: none; }` but bootstrap.min.css set `[hidden] { display: none !important; }` so we also need the `!important` here to be able to override the default hidden behavior on the sphinx rendered scikit-learn.org. See: https://github.com/scikit-learn/scikit-learn/issues/21755 */display: inline-block !important;position: relative;}#sk-container-id-7 div.sk-text-repr-fallback {display: none;}</style><div id=\"sk-container-id-7\" class=\"sk-top-container\"><div class=\"sk-text-repr-fallback\"><pre>GradientBoostingClassifier()</pre><b>In a Jupyter environment, please rerun this cell to show the HTML representation or trust the notebook. <br />On GitHub, the HTML representation is unable to render, please try loading this page with nbviewer.org.</b></div><div class=\"sk-container\" hidden><div class=\"sk-item\"><div class=\"sk-estimator sk-toggleable\"><input class=\"sk-toggleable__control sk-hidden--visually\" id=\"sk-estimator-id-7\" type=\"checkbox\" checked><label for=\"sk-estimator-id-7\" class=\"sk-toggleable__label sk-toggleable__label-arrow\">GradientBoostingClassifier</label><div class=\"sk-toggleable__content\"><pre>GradientBoostingClassifier()</pre></div></div></div></div></div>"
      ],
      "text/plain": [
       "GradientBoostingClassifier()"
      ]
     },
     "execution_count": 90,
     "metadata": {},
     "output_type": "execute_result"
    }
   ],
   "source": [
    "gbc.fit(X_train, y_train)"
   ]
  },
  {
   "cell_type": "code",
   "execution_count": 91,
   "id": "7c770de7",
   "metadata": {},
   "outputs": [],
   "source": [
    "gbc_y_pre=gbc.predict(X_test)"
   ]
  },
  {
   "cell_type": "code",
   "execution_count": 92,
   "id": "ddd5f350",
   "metadata": {},
   "outputs": [
    {
     "data": {
      "text/plain": [
       "array([2, 3, 0, 1, 3, 1, 2, 2, 3, 1, 0, 2, 3, 3, 1, 3, 1, 1, 1, 3, 0, 0,\n",
       "       1, 0, 1, 3, 2, 3, 0, 1, 0, 1, 0, 0, 2, 1, 0, 3, 0, 1, 3, 0, 3, 2,\n",
       "       3, 1, 0, 2, 3, 1, 2, 3, 1, 3, 3, 3, 2, 0, 2, 1, 2, 3, 2, 0, 0, 2,\n",
       "       0, 0, 0, 3, 3, 2, 2, 1, 0, 1, 1, 2, 3, 3, 2, 2, 0, 3, 3, 2, 3, 2,\n",
       "       0, 2, 1, 3, 3, 0, 0, 0, 0, 1, 1, 1, 3, 1, 1, 2, 1, 3, 3, 0, 0, 2,\n",
       "       1, 2, 3, 0, 2, 3, 3, 0, 0, 1, 1, 0, 1, 1, 0, 1, 0, 0, 2, 0, 0, 0,\n",
       "       1, 2, 0, 3, 1, 0, 1, 2, 1, 2, 0, 1, 2, 2, 3, 3, 3, 2, 1, 2, 0, 0,\n",
       "       1, 0, 2, 3, 1, 2, 2, 3, 0, 2, 3, 2, 0, 0, 3, 1, 2, 0, 2, 3, 0, 2,\n",
       "       1, 0, 1, 2, 2, 3, 2, 1, 0, 3, 2, 2, 3, 2, 1, 0, 2, 1, 2, 3, 0, 2,\n",
       "       1, 3], dtype=int64)"
      ]
     },
     "execution_count": 92,
     "metadata": {},
     "output_type": "execute_result"
    }
   ],
   "source": [
    "gbc_y_pre"
   ]
  },
  {
   "cell_type": "code",
   "execution_count": 115,
   "id": "f6a54c68",
   "metadata": {},
   "outputs": [
    {
     "name": "stdout",
     "output_type": "stream",
     "text": [
      "Classification Report:\n",
      "\n",
      "              precision    recall  f1-score   support\n",
      "\n",
      "           0       0.92      0.92      0.92        53\n",
      "           1       0.83      0.82      0.82        49\n",
      "           2       0.73      0.79      0.76        47\n",
      "           3       0.88      0.82      0.85        51\n",
      "\n",
      "    accuracy                           0.84       200\n",
      "   macro avg       0.84      0.84      0.84       200\n",
      "weighted avg       0.84      0.84      0.84       200\n",
      "\n"
     ]
    }
   ],
   "source": [
    "print('Classification Report:\\n')\n",
    "print(classification_report(y_test, gbc_y_pre))"
   ]
  },
  {
   "cell_type": "code",
   "execution_count": 94,
   "id": "9c152ee9",
   "metadata": {},
   "outputs": [],
   "source": [
    "from sklearn.metrics import accuracy_score"
   ]
  },
  {
   "cell_type": "code",
   "execution_count": 95,
   "id": "e07e1c38",
   "metadata": {},
   "outputs": [],
   "source": [
    "s=accuracy_score(y_pre,y_test)"
   ]
  },
  {
   "cell_type": "code",
   "execution_count": 96,
   "id": "43089add",
   "metadata": {},
   "outputs": [
    {
     "data": {
      "text/plain": [
       "0.855"
      ]
     },
     "execution_count": 96,
     "metadata": {},
     "output_type": "execute_result"
    }
   ],
   "source": [
    "s"
   ]
  },
  {
   "cell_type": "markdown",
   "id": "ae4b8352",
   "metadata": {},
   "source": [
    "# Dashboard"
   ]
  },
  {
   "cell_type": "code",
   "execution_count": 97,
   "id": "50d79df9",
   "metadata": {},
   "outputs": [],
   "source": [
    " #pip install dash"
   ]
  },
  {
   "cell_type": "code",
   "execution_count": 98,
   "id": "0ed60de4",
   "metadata": {
    "scrolled": false
   },
   "outputs": [
    {
     "name": "stderr",
     "output_type": "stream",
     "text": [
      "C:\\Users\\nazil\\AppData\\Local\\Temp\\ipykernel_10448\\2095659807.py:2: UserWarning: \n",
      "The dash_core_components package is deprecated. Please replace\n",
      "`import dash_core_components as dcc` with `from dash import dcc`\n",
      "  import dash_core_components as dcc\n",
      "C:\\Users\\nazil\\AppData\\Local\\Temp\\ipykernel_10448\\2095659807.py:3: UserWarning: \n",
      "The dash_html_components package is deprecated. Please replace\n",
      "`import dash_html_components as html` with `from dash import html`\n",
      "  import dash_html_components as html\n"
     ]
    },
    {
     "data": {
      "text/html": [
       "\n",
       "        <iframe\n",
       "            width=\"100%\"\n",
       "            height=\"650\"\n",
       "            src=\"http://127.0.0.1:8050/\"\n",
       "            frameborder=\"0\"\n",
       "            allowfullscreen\n",
       "            \n",
       "        ></iframe>\n",
       "        "
      ],
      "text/plain": [
       "<IPython.lib.display.IFrame at 0x1fe47cf5c10>"
      ]
     },
     "metadata": {},
     "output_type": "display_data"
    }
   ],
   "source": [
    "import dash\n",
    "import dash_core_components as dcc\n",
    "import dash_html_components as html\n",
    "from dash.dependencies import Input, Output\n",
    "import pandas as pd \n",
    " \n",
    "app = dash.Dash(__name__)\n",
    "\n",
    "app.layout = html.Div([\n",
    "    html.H1(\"Machine Learning Algorithm Accuracy Dashboard\", style={'color': ' cyan'}),\n",
    "    \n",
    "    dcc.Dropdown(\n",
    "        id='algorithm-selector',\n",
    "        options=[\n",
    "            {'label': 'Random Forest', 'value': 'RF'},\n",
    "            {'label': 'Support Vector Classifier', 'value': 'SVC'},\n",
    "            {'label': 'Decision Tree Classifier', 'value': 'DTC'},\n",
    "            {'label': 'Gradient Boosting', 'value': 'GB'},\n",
    "            {'label': 'LogisticRegression ', 'value': 'LR'},\n",
    "            {'label': 'Naive Bayes(Gaussian)', 'value': 'Gaussian'},\n",
    "            {'label': 'Naive Bayes(Multinomial)', 'value': 'Multinomial'},\n",
    "            {'label': 'Naive Bayes(Bernoulli)', 'value': 'Bernoulli'},\n",
    "            {'label': 'K-Nearest Neighbour', 'value': 'KNN'},\n",
    "        ],\n",
    "        multi=True, \n",
    "        value=['random_forest'],  \n",
    "        style={'background-color': 'lightgray', 'color': 'black'},\n",
    "    ),\n",
    "    \n",
    "    dcc.Graph(\n",
    "        id='accuracy-graph',\n",
    "        style={'border': '1px solid gray', 'margin-top': '20px'},\n",
    "    ),\n",
    "])\n",
    "\n",
    "\n",
    "accuracies = {\n",
    "    'RF':{'accuracy': 0.855, 'color': 'red'},             \n",
    "    'SVC':  {'accuracy': 0.85, 'color': 'green'},\n",
    "    'DTC':  {'accuracy':  0.74, 'color': 'Yellow'},\n",
    "    'GB' :{ 'accuracy': 0.855, 'color': 'Indigo'},\n",
    "    'LR':  {'accuracy': 0.828, 'color': 'cyan'},\n",
    "    'Gaussian':{ 'accuracy': 0.855,'color': 'pink'},\n",
    "    'Multinomial':{'accuracy': 0.53,'color': 'Purple'},\n",
    "    'Bernoulli':{'accuracy': 0.515,'color': 'blue'},\n",
    "    'KNN': {'accuracy': 0.645, 'color': 'Orange'},\n",
    "}\n",
    "\n",
    "@app.callback(\n",
    "    Output('accuracy-graph', 'figure'),\n",
    "    Input('algorithm-selector', 'value')\n",
    ")\n",
    "def update_accuracy_graph(selected_algorithms):\n",
    "    data = []\n",
    "    colors = []\n",
    "    for algorithm in selected_algorithms:\n",
    "        accuracy_data = accuracies.get(algorithm, {'accuracy': 0.0, 'color': 'gray'})\n",
    "        accuracy = accuracy_data['accuracy']\n",
    "        color = accuracy_data['color']\n",
    "        data.append({'Algorithm': algorithm, 'Accuracy': accuracy})\n",
    "        colors.append(color)\n",
    "    \n",
    "    df = pd.DataFrame(data)\n",
    "    fig = {\n",
    "        'data': [\n",
    "            {\n",
    "                'x': df['Algorithm'],\n",
    "                'y': df['Accuracy'],\n",
    "                'type': 'bar',\n",
    "                'name': 'Accuracy',\n",
    "                'marker': {'color': colors}  # Assign individual colors\n",
    "            },\n",
    "        ],\n",
    "        'layout': {\n",
    "            'title': 'Algorithm Accuracy Comparison',\n",
    "            'bargap': 0.3, \n",
    "            'bargroupgap': 0.2 \n",
    "        }\n",
    "    }\n",
    "    return fig\n",
    "\n",
    "if __name__ == '__main__':\n",
    "    app.run_server(debug=True)"
   ]
  },
  {
   "cell_type": "code",
   "execution_count": 99,
   "id": "eecc0053",
   "metadata": {},
   "outputs": [],
   "source": [
    "import joblib"
   ]
  },
  {
   "cell_type": "code",
   "execution_count": 132,
   "id": "49421d8f",
   "metadata": {},
   "outputs": [
    {
     "data": {
      "text/plain": [
       "['gradient_b_joblib_model']"
      ]
     },
     "execution_count": 132,
     "metadata": {},
     "output_type": "execute_result"
    }
   ],
   "source": [
    "joblib.dump(gbc,'gradient_b_joblib_model')"
   ]
  },
  {
   "cell_type": "code",
   "execution_count": null,
   "id": "df16103c",
   "metadata": {},
   "outputs": [],
   "source": []
  },
  {
   "cell_type": "code",
   "execution_count": null,
   "id": "6f4b1947",
   "metadata": {},
   "outputs": [],
   "source": []
  }
 ],
 "metadata": {
  "kernelspec": {
   "display_name": "Python 3 (ipykernel)",
   "language": "python",
   "name": "python3"
  },
  "language_info": {
   "codemirror_mode": {
    "name": "ipython",
    "version": 3
   },
   "file_extension": ".py",
   "mimetype": "text/x-python",
   "name": "python",
   "nbconvert_exporter": "python",
   "pygments_lexer": "ipython3",
   "version": "3.11.5"
  }
 },
 "nbformat": 4,
 "nbformat_minor": 5
}
